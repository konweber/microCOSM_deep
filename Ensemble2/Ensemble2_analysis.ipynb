{
 "cells": [
  {
   "cell_type": "code",
   "execution_count": 41,
   "metadata": {},
   "outputs": [],
   "source": [
    "### Import data analysis libraries\n",
    "\n",
    "import pandas as pd\n",
    "import numpy as np\n",
    "import matplotlib.pyplot as plt\n",
    "import os\n",
    "\n"
   ]
  },
  {
   "cell_type": "code",
   "execution_count": 42,
   "metadata": {},
   "outputs": [
    {
     "data": {
      "text/plain": [
       "'c:\\\\Users\\\\konst\\\\Documents\\\\_Master_Thesis\\\\Code\\\\microCOSM_deep\\\\Ensemble2'"
      ]
     },
     "execution_count": 42,
     "metadata": {},
     "output_type": "execute_result"
    }
   ],
   "source": [
    "os.getcwd()"
   ]
  },
  {
   "cell_type": "code",
   "execution_count": 43,
   "metadata": {},
   "outputs": [],
   "source": [
    "data = pd.read_csv('ensemble2_output.csv')"
   ]
  },
  {
   "cell_type": "code",
   "execution_count": 44,
   "metadata": {},
   "outputs": [
    {
     "data": {
      "text/html": [
       "<div>\n",
       "<style scoped>\n",
       "    .dataframe tbody tr th:only-of-type {\n",
       "        vertical-align: middle;\n",
       "    }\n",
       "\n",
       "    .dataframe tbody tr th {\n",
       "        vertical-align: top;\n",
       "    }\n",
       "\n",
       "    .dataframe thead th {\n",
       "        text-align: right;\n",
       "    }\n",
       "</style>\n",
       "<table border=\"1\" class=\"dataframe\">\n",
       "  <thead>\n",
       "    <tr style=\"text-align: right;\">\n",
       "      <th></th>\n",
       "      <th>id</th>\n",
       "      <th>dt(s)</th>\n",
       "      <th>t(yr)</th>\n",
       "      <th>rFeC_pb</th>\n",
       "      <th>mu0</th>\n",
       "      <th>m_l</th>\n",
       "      <th>m_q</th>\n",
       "      <th>kappa</th>\n",
       "      <th>kfe_p</th>\n",
       "      <th>kldoc_p</th>\n",
       "      <th>...</th>\n",
       "      <th>DIC(2)</th>\n",
       "      <th>DIC(3)</th>\n",
       "      <th>ALK(1)</th>\n",
       "      <th>ALK(2)</th>\n",
       "      <th>ALK(3)</th>\n",
       "      <th>OCPCO2(1)</th>\n",
       "      <th>OCPCO2(2)</th>\n",
       "      <th>OCPCO2(3)</th>\n",
       "      <th>ATPCO2</th>\n",
       "      <th>Limit</th>\n",
       "    </tr>\n",
       "  </thead>\n",
       "  <tbody>\n",
       "    <tr>\n",
       "      <th>0</th>\n",
       "      <td>100</td>\n",
       "      <td>86400</td>\n",
       "      <td>0.000003</td>\n",
       "      <td>0.00004</td>\n",
       "      <td>1.157407e-07</td>\n",
       "      <td>0.000001</td>\n",
       "      <td>1.000000e-14</td>\n",
       "      <td>0</td>\n",
       "      <td>1.024500e-07</td>\n",
       "      <td>0.000102</td>\n",
       "      <td>...</td>\n",
       "      <td>NaN</td>\n",
       "      <td>NaN</td>\n",
       "      <td>NaN</td>\n",
       "      <td>NaN</td>\n",
       "      <td>NaN</td>\n",
       "      <td>NaN</td>\n",
       "      <td>NaN</td>\n",
       "      <td>NaN</td>\n",
       "      <td>0</td>\n",
       "      <td>444</td>\n",
       "    </tr>\n",
       "    <tr>\n",
       "      <th>1</th>\n",
       "      <td>101</td>\n",
       "      <td>86400</td>\n",
       "      <td>0.000003</td>\n",
       "      <td>0.00004</td>\n",
       "      <td>1.157407e-07</td>\n",
       "      <td>0.000001</td>\n",
       "      <td>1.000000e-14</td>\n",
       "      <td>0</td>\n",
       "      <td>1.024500e-07</td>\n",
       "      <td>0.000102</td>\n",
       "      <td>...</td>\n",
       "      <td>NaN</td>\n",
       "      <td>NaN</td>\n",
       "      <td>NaN</td>\n",
       "      <td>NaN</td>\n",
       "      <td>NaN</td>\n",
       "      <td>NaN</td>\n",
       "      <td>NaN</td>\n",
       "      <td>NaN</td>\n",
       "      <td>0</td>\n",
       "      <td>444</td>\n",
       "    </tr>\n",
       "    <tr>\n",
       "      <th>2</th>\n",
       "      <td>102</td>\n",
       "      <td>86400</td>\n",
       "      <td>0.000003</td>\n",
       "      <td>0.00004</td>\n",
       "      <td>1.157407e-07</td>\n",
       "      <td>0.000001</td>\n",
       "      <td>1.000000e-14</td>\n",
       "      <td>0</td>\n",
       "      <td>1.024500e-07</td>\n",
       "      <td>0.000102</td>\n",
       "      <td>...</td>\n",
       "      <td>NaN</td>\n",
       "      <td>NaN</td>\n",
       "      <td>NaN</td>\n",
       "      <td>NaN</td>\n",
       "      <td>NaN</td>\n",
       "      <td>NaN</td>\n",
       "      <td>NaN</td>\n",
       "      <td>NaN</td>\n",
       "      <td>0</td>\n",
       "      <td>444</td>\n",
       "    </tr>\n",
       "    <tr>\n",
       "      <th>3</th>\n",
       "      <td>103</td>\n",
       "      <td>86400</td>\n",
       "      <td>0.000003</td>\n",
       "      <td>0.00004</td>\n",
       "      <td>1.157407e-07</td>\n",
       "      <td>0.000001</td>\n",
       "      <td>1.000000e-14</td>\n",
       "      <td>0</td>\n",
       "      <td>1.024500e-07</td>\n",
       "      <td>0.001025</td>\n",
       "      <td>...</td>\n",
       "      <td>NaN</td>\n",
       "      <td>NaN</td>\n",
       "      <td>NaN</td>\n",
       "      <td>NaN</td>\n",
       "      <td>NaN</td>\n",
       "      <td>NaN</td>\n",
       "      <td>NaN</td>\n",
       "      <td>NaN</td>\n",
       "      <td>0</td>\n",
       "      <td>444</td>\n",
       "    </tr>\n",
       "    <tr>\n",
       "      <th>4</th>\n",
       "      <td>104</td>\n",
       "      <td>86400</td>\n",
       "      <td>0.000003</td>\n",
       "      <td>0.00004</td>\n",
       "      <td>1.157407e-07</td>\n",
       "      <td>0.000001</td>\n",
       "      <td>1.000000e-14</td>\n",
       "      <td>0</td>\n",
       "      <td>1.024500e-07</td>\n",
       "      <td>0.001025</td>\n",
       "      <td>...</td>\n",
       "      <td>NaN</td>\n",
       "      <td>NaN</td>\n",
       "      <td>NaN</td>\n",
       "      <td>NaN</td>\n",
       "      <td>NaN</td>\n",
       "      <td>NaN</td>\n",
       "      <td>NaN</td>\n",
       "      <td>NaN</td>\n",
       "      <td>0</td>\n",
       "      <td>444</td>\n",
       "    </tr>\n",
       "  </tbody>\n",
       "</table>\n",
       "<p>5 rows × 42 columns</p>\n",
       "</div>"
      ],
      "text/plain": [
       "    id  dt(s)     t(yr)  rFeC_pb           mu0       m_l           m_q  kappa  \\\n",
       "0  100  86400  0.000003  0.00004  1.157407e-07  0.000001  1.000000e-14      0   \n",
       "1  101  86400  0.000003  0.00004  1.157407e-07  0.000001  1.000000e-14      0   \n",
       "2  102  86400  0.000003  0.00004  1.157407e-07  0.000001  1.000000e-14      0   \n",
       "3  103  86400  0.000003  0.00004  1.157407e-07  0.000001  1.000000e-14      0   \n",
       "4  104  86400  0.000003  0.00004  1.157407e-07  0.000001  1.000000e-14      0   \n",
       "\n",
       "          kfe_p   kldoc_p  ...  DIC(2)  DIC(3)  ALK(1)  ALK(2)  ALK(3)  \\\n",
       "0  1.024500e-07  0.000102  ...     NaN     NaN     NaN     NaN     NaN   \n",
       "1  1.024500e-07  0.000102  ...     NaN     NaN     NaN     NaN     NaN   \n",
       "2  1.024500e-07  0.000102  ...     NaN     NaN     NaN     NaN     NaN   \n",
       "3  1.024500e-07  0.001025  ...     NaN     NaN     NaN     NaN     NaN   \n",
       "4  1.024500e-07  0.001025  ...     NaN     NaN     NaN     NaN     NaN   \n",
       "\n",
       "   OCPCO2(1)  OCPCO2(2)  OCPCO2(3)  ATPCO2  Limit  \n",
       "0        NaN        NaN        NaN       0    444  \n",
       "1        NaN        NaN        NaN       0    444  \n",
       "2        NaN        NaN        NaN       0    444  \n",
       "3        NaN        NaN        NaN       0    444  \n",
       "4        NaN        NaN        NaN       0    444  \n",
       "\n",
       "[5 rows x 42 columns]"
      ]
     },
     "execution_count": 44,
     "metadata": {},
     "output_type": "execute_result"
    }
   ],
   "source": [
    "data.head()"
   ]
  },
  {
   "cell_type": "code",
   "execution_count": 72,
   "metadata": {},
   "outputs": [
    {
     "data": {
      "text/html": [
       "<div>\n",
       "<style scoped>\n",
       "    .dataframe tbody tr th:only-of-type {\n",
       "        vertical-align: middle;\n",
       "    }\n",
       "\n",
       "    .dataframe tbody tr th {\n",
       "        vertical-align: top;\n",
       "    }\n",
       "\n",
       "    .dataframe thead th {\n",
       "        text-align: right;\n",
       "    }\n",
       "</style>\n",
       "<table border=\"1\" class=\"dataframe\">\n",
       "  <thead>\n",
       "    <tr style=\"text-align: right;\">\n",
       "      <th></th>\n",
       "      <th>id</th>\n",
       "      <th>dt(s)</th>\n",
       "      <th>t(yr)</th>\n",
       "      <th>rFeC_pb</th>\n",
       "      <th>mu0</th>\n",
       "      <th>m_l</th>\n",
       "      <th>m_q</th>\n",
       "      <th>kappa</th>\n",
       "      <th>kfe_p</th>\n",
       "      <th>kldoc_p</th>\n",
       "      <th>...</th>\n",
       "      <th>DIC(2)</th>\n",
       "      <th>DIC(3)</th>\n",
       "      <th>ALK(1)</th>\n",
       "      <th>ALK(2)</th>\n",
       "      <th>ALK(3)</th>\n",
       "      <th>OCPCO2(1)</th>\n",
       "      <th>OCPCO2(2)</th>\n",
       "      <th>OCPCO2(3)</th>\n",
       "      <th>ATPCO2</th>\n",
       "      <th>Limit</th>\n",
       "    </tr>\n",
       "  </thead>\n",
       "  <tbody>\n",
       "    <tr>\n",
       "      <th>13495</th>\n",
       "      <td>13595</td>\n",
       "      <td>86400</td>\n",
       "      <td>0.000003</td>\n",
       "      <td>0.00004</td>\n",
       "      <td>0.001157</td>\n",
       "      <td>0.0</td>\n",
       "      <td>0.0</td>\n",
       "      <td>0</td>\n",
       "      <td>0.00001</td>\n",
       "      <td>0.001025</td>\n",
       "      <td>...</td>\n",
       "      <td>NaN</td>\n",
       "      <td>NaN</td>\n",
       "      <td>NaN</td>\n",
       "      <td>NaN</td>\n",
       "      <td>NaN</td>\n",
       "      <td>NaN</td>\n",
       "      <td>NaN</td>\n",
       "      <td>NaN</td>\n",
       "      <td>0</td>\n",
       "      <td>444</td>\n",
       "    </tr>\n",
       "    <tr>\n",
       "      <th>13496</th>\n",
       "      <td>13596</td>\n",
       "      <td>86400</td>\n",
       "      <td>0.000003</td>\n",
       "      <td>0.00004</td>\n",
       "      <td>0.001157</td>\n",
       "      <td>0.0</td>\n",
       "      <td>0.0</td>\n",
       "      <td>0</td>\n",
       "      <td>0.00001</td>\n",
       "      <td>0.001025</td>\n",
       "      <td>...</td>\n",
       "      <td>NaN</td>\n",
       "      <td>NaN</td>\n",
       "      <td>NaN</td>\n",
       "      <td>NaN</td>\n",
       "      <td>NaN</td>\n",
       "      <td>NaN</td>\n",
       "      <td>NaN</td>\n",
       "      <td>NaN</td>\n",
       "      <td>0</td>\n",
       "      <td>444</td>\n",
       "    </tr>\n",
       "    <tr>\n",
       "      <th>13497</th>\n",
       "      <td>13597</td>\n",
       "      <td>86400</td>\n",
       "      <td>0.000003</td>\n",
       "      <td>0.00004</td>\n",
       "      <td>0.001157</td>\n",
       "      <td>0.0</td>\n",
       "      <td>0.0</td>\n",
       "      <td>0</td>\n",
       "      <td>0.00001</td>\n",
       "      <td>0.010245</td>\n",
       "      <td>...</td>\n",
       "      <td>NaN</td>\n",
       "      <td>NaN</td>\n",
       "      <td>NaN</td>\n",
       "      <td>NaN</td>\n",
       "      <td>NaN</td>\n",
       "      <td>NaN</td>\n",
       "      <td>NaN</td>\n",
       "      <td>NaN</td>\n",
       "      <td>0</td>\n",
       "      <td>444</td>\n",
       "    </tr>\n",
       "    <tr>\n",
       "      <th>13498</th>\n",
       "      <td>13598</td>\n",
       "      <td>86400</td>\n",
       "      <td>0.000003</td>\n",
       "      <td>0.00004</td>\n",
       "      <td>0.001157</td>\n",
       "      <td>0.0</td>\n",
       "      <td>0.0</td>\n",
       "      <td>0</td>\n",
       "      <td>0.00001</td>\n",
       "      <td>0.010245</td>\n",
       "      <td>...</td>\n",
       "      <td>NaN</td>\n",
       "      <td>NaN</td>\n",
       "      <td>NaN</td>\n",
       "      <td>NaN</td>\n",
       "      <td>NaN</td>\n",
       "      <td>NaN</td>\n",
       "      <td>NaN</td>\n",
       "      <td>NaN</td>\n",
       "      <td>0</td>\n",
       "      <td>444</td>\n",
       "    </tr>\n",
       "    <tr>\n",
       "      <th>13499</th>\n",
       "      <td>13599</td>\n",
       "      <td>86400</td>\n",
       "      <td>0.000003</td>\n",
       "      <td>0.00004</td>\n",
       "      <td>0.001157</td>\n",
       "      <td>0.0</td>\n",
       "      <td>0.0</td>\n",
       "      <td>0</td>\n",
       "      <td>0.00001</td>\n",
       "      <td>0.010245</td>\n",
       "      <td>...</td>\n",
       "      <td>NaN</td>\n",
       "      <td>NaN</td>\n",
       "      <td>NaN</td>\n",
       "      <td>NaN</td>\n",
       "      <td>NaN</td>\n",
       "      <td>NaN</td>\n",
       "      <td>NaN</td>\n",
       "      <td>NaN</td>\n",
       "      <td>0</td>\n",
       "      <td>444</td>\n",
       "    </tr>\n",
       "  </tbody>\n",
       "</table>\n",
       "<p>5 rows × 42 columns</p>\n",
       "</div>"
      ],
      "text/plain": [
       "          id  dt(s)     t(yr)  rFeC_pb       mu0  m_l  m_q  kappa    kfe_p  \\\n",
       "13495  13595  86400  0.000003  0.00004  0.001157  0.0  0.0      0  0.00001   \n",
       "13496  13596  86400  0.000003  0.00004  0.001157  0.0  0.0      0  0.00001   \n",
       "13497  13597  86400  0.000003  0.00004  0.001157  0.0  0.0      0  0.00001   \n",
       "13498  13598  86400  0.000003  0.00004  0.001157  0.0  0.0      0  0.00001   \n",
       "13499  13599  86400  0.000003  0.00004  0.001157  0.0  0.0      0  0.00001   \n",
       "\n",
       "        kldoc_p  ...  DIC(2)  DIC(3)  ALK(1)  ALK(2)  ALK(3)  OCPCO2(1)  \\\n",
       "13495  0.001025  ...     NaN     NaN     NaN     NaN     NaN        NaN   \n",
       "13496  0.001025  ...     NaN     NaN     NaN     NaN     NaN        NaN   \n",
       "13497  0.010245  ...     NaN     NaN     NaN     NaN     NaN        NaN   \n",
       "13498  0.010245  ...     NaN     NaN     NaN     NaN     NaN        NaN   \n",
       "13499  0.010245  ...     NaN     NaN     NaN     NaN     NaN        NaN   \n",
       "\n",
       "       OCPCO2(2)  OCPCO2(3)  ATPCO2  Limit  \n",
       "13495        NaN        NaN       0    444  \n",
       "13496        NaN        NaN       0    444  \n",
       "13497        NaN        NaN       0    444  \n",
       "13498        NaN        NaN       0    444  \n",
       "13499        NaN        NaN       0    444  \n",
       "\n",
       "[5 rows x 42 columns]"
      ]
     },
     "execution_count": 72,
     "metadata": {},
     "output_type": "execute_result"
    }
   ],
   "source": [
    "### show the last rows of the data\n",
    "\n",
    "data.tail()"
   ]
  },
  {
   "cell_type": "code",
   "execution_count": 49,
   "metadata": {},
   "outputs": [],
   "source": [
    "### Select all rows where PO4(1) > 1 and PO4(3) > 1 and NO3(1) > 20 and NO3(3) > 20\n",
    "\n",
    "data_sel = data[(data['PO4(1)'] > 1) & (data['PO4(3)'] > 1) & (data['NO3(1)'] > 20) & (data['NO3(3)'] > 20)]"
   ]
  },
  {
   "cell_type": "code",
   "execution_count": 50,
   "metadata": {},
   "outputs": [
    {
     "data": {
      "text/plain": [
       "(6718, 42)"
      ]
     },
     "execution_count": 50,
     "metadata": {},
     "output_type": "execute_result"
    }
   ],
   "source": [
    "data_sel.shape"
   ]
  },
  {
   "cell_type": "code",
   "execution_count": 51,
   "metadata": {},
   "outputs": [],
   "source": [
    "### Select all rows where LDOC(1) > 0, LDOC(2) > 0, LDOC(3) > 0\n",
    "### Select all rows where LDOC(1) < 80, LDOC(2) < 80, LDOC(3) < 80\n",
    "\n",
    "data_sel = data_sel[(data_sel['LDOC(1)'] > 0) & (data_sel['LDOC(2)'] > 0) & (data_sel['LDOC(3)'] > 0)]\n",
    "data_sel = data_sel[(data_sel['LDOC(1)'] < 100) & (data_sel['LDOC(2)'] < 100) & (data_sel['LDOC(3)'] < 100)]"
   ]
  },
  {
   "cell_type": "code",
   "execution_count": 52,
   "metadata": {},
   "outputs": [
    {
     "data": {
      "text/plain": [
       "(6144, 42)"
      ]
     },
     "execution_count": 52,
     "metadata": {},
     "output_type": "execute_result"
    }
   ],
   "source": [
    "data_sel.shape"
   ]
  },
  {
   "cell_type": "code",
   "execution_count": 54,
   "metadata": {},
   "outputs": [],
   "source": [
    "### Select all rows where Lig(1) > 0, Lig(2) > 0, Lig(3) > 0\n",
    "### Select all rows where Lig(1) < 6, Lig(2) < 6, Lig(3) < 6\n",
    "\n",
    "data_sel = data_sel[(data_sel['Lig(1)'] > 0) & (data_sel['Lig(2)'] > 0) & (data_sel['Lig(3)'] > 0)]\n",
    "data_sel = data_sel[(data_sel['Lig(1)'] < 6) & (data_sel['Lig(2)'] < 6) & (data_sel['Lig(3)'] < 6)]\n"
   ]
  },
  {
   "cell_type": "code",
   "execution_count": 55,
   "metadata": {},
   "outputs": [
    {
     "data": {
      "text/plain": [
       "(6144, 42)"
      ]
     },
     "execution_count": 55,
     "metadata": {},
     "output_type": "execute_result"
    }
   ],
   "source": [
    "data_sel.shape"
   ]
  },
  {
   "cell_type": "code",
   "execution_count": 56,
   "metadata": {},
   "outputs": [
    {
     "data": {
      "image/png": "[encoded data removed]",
      "text/plain": [
       "<Figure size 640x480 with 1 Axes>"
      ]
     },
     "metadata": {},
     "output_type": "display_data"
    },
    {
     "data": {
      "image/png": "[encoded data removed]",
      "text/plain": [
       "<Figure size 640x480 with 1 Axes>"
      ]
     },
     "metadata": {},
     "output_type": "display_data"
    },
    {
     "data": {
      "image/png": "[encoded data removed]",
      "text/plain": [
       "<Figure size 640x480 with 1 Axes>"
      ]
     },
     "metadata": {},
     "output_type": "display_data"
    }
   ],
   "source": [
    "### Show histogram of Fe(1), Fe(2), Fe(3)\n",
    "\n",
    "plt.hist(data_sel['Fe(1)'], bins=50)\n",
    "plt.show()\n",
    "\n",
    "plt.hist(data_sel['Fe(2)'], bins=50)\n",
    "plt.show()\n",
    "\n",
    "plt.hist(data_sel['Fe(3)'], bins=50)\n",
    "plt.show()\n"
   ]
  },
  {
   "cell_type": "code",
   "execution_count": 57,
   "metadata": {},
   "outputs": [],
   "source": [
    "### Select all rows where Fe(1) > 0.001, Fe(2) > 0.3, Fe(3) > 0.2\n",
    "\n",
    "data_sel = data_sel[(data_sel['Fe(1)'] > 0.001) & (data_sel['Fe(2)'] > 0.1) & (data_sel['Fe(3)'] > 0.2)]\n"
   ]
  },
  {
   "cell_type": "code",
   "execution_count": 58,
   "metadata": {},
   "outputs": [
    {
     "data": {
      "text/plain": [
       "(5007, 42)"
      ]
     },
     "execution_count": 58,
     "metadata": {},
     "output_type": "execute_result"
    }
   ],
   "source": [
    "data_sel.shape"
   ]
  },
  {
   "cell_type": "code",
   "execution_count": 59,
   "metadata": {},
   "outputs": [
    {
     "data": {
      "image/png": "[encoded data removed]",
      "text/plain": [
       "<Figure size 640x480 with 1 Axes>"
      ]
     },
     "metadata": {},
     "output_type": "display_data"
    },
    {
     "data": {
      "image/png": "[encoded data removed]",
      "text/plain": [
       "<Figure size 640x480 with 1 Axes>"
      ]
     },
     "metadata": {},
     "output_type": "display_data"
    },
    {
     "data": {
      "image/png": "[encoded data removed]",
      "text/plain": [
       "<Figure size 640x480 with 1 Axes>"
      ]
     },
     "metadata": {},
     "output_type": "display_data"
    }
   ],
   "source": [
    "### Show histogram of PB(1), PB(2), PB(3)\n",
    "\n",
    "plt.hist(data_sel['PB(1)'], bins=50)\n",
    "plt.show()\n",
    "\n",
    "plt.hist(data_sel['PB(2)'], bins=50)\n",
    "plt.show()\n",
    "\n",
    "plt.hist(data_sel['PB(3)'], bins=50)\n",
    "plt.show()"
   ]
  },
  {
   "cell_type": "code",
   "execution_count": 67,
   "metadata": {},
   "outputs": [],
   "source": [
    "### Select rows where PB(1) > 5, PB(2) > 5, PB(3) > 5\n",
    "### Select rows where PB(1) < 500, PB(2) < 500, PB(3) < 500\n",
    "\n",
    "data_sel = data_sel[(data_sel['PB(1)'] > 5) & (data_sel['PB(2)'] > 5) & (data_sel['PB(3)'] > 5)]\n",
    "data_sel = data_sel[(data_sel['PB(1)'] < 500) & (data_sel['PB(2)'] < 500) & (data_sel['PB(3)'] < 500)]"
   ]
  },
  {
   "cell_type": "code",
   "execution_count": 68,
   "metadata": {},
   "outputs": [
    {
     "data": {
      "text/plain": [
       "(1712, 42)"
      ]
     },
     "execution_count": 68,
     "metadata": {},
     "output_type": "execute_result"
    }
   ],
   "source": [
    "### Get dimensions of data_sel\n",
    "\n",
    "data_sel.shape"
   ]
  },
  {
   "cell_type": "code",
   "execution_count": 69,
   "metadata": {},
   "outputs": [
    {
     "data": {
      "text/html": [
       "<div>\n",
       "<style scoped>\n",
       "    .dataframe tbody tr th:only-of-type {\n",
       "        vertical-align: middle;\n",
       "    }\n",
       "\n",
       "    .dataframe tbody tr th {\n",
       "        vertical-align: top;\n",
       "    }\n",
       "\n",
       "    .dataframe thead th {\n",
       "        text-align: right;\n",
       "    }\n",
       "</style>\n",
       "<table border=\"1\" class=\"dataframe\">\n",
       "  <thead>\n",
       "    <tr style=\"text-align: right;\">\n",
       "      <th></th>\n",
       "      <th>id</th>\n",
       "      <th>dt(s)</th>\n",
       "      <th>t(yr)</th>\n",
       "      <th>rFeC_pb</th>\n",
       "      <th>mu0</th>\n",
       "      <th>m_l</th>\n",
       "      <th>m_q</th>\n",
       "      <th>kappa</th>\n",
       "      <th>kfe_p</th>\n",
       "      <th>kldoc_p</th>\n",
       "      <th>...</th>\n",
       "      <th>DIC(2)</th>\n",
       "      <th>DIC(3)</th>\n",
       "      <th>ALK(1)</th>\n",
       "      <th>ALK(2)</th>\n",
       "      <th>ALK(3)</th>\n",
       "      <th>OCPCO2(1)</th>\n",
       "      <th>OCPCO2(2)</th>\n",
       "      <th>OCPCO2(3)</th>\n",
       "      <th>ATPCO2</th>\n",
       "      <th>Limit</th>\n",
       "    </tr>\n",
       "  </thead>\n",
       "  <tbody>\n",
       "    <tr>\n",
       "      <th>649</th>\n",
       "      <td>749</td>\n",
       "      <td>86400</td>\n",
       "      <td>0.000003</td>\n",
       "      <td>0.00004</td>\n",
       "      <td>1.157407e-07</td>\n",
       "      <td>1.157407e-08</td>\n",
       "      <td>1.000000e-18</td>\n",
       "      <td>0</td>\n",
       "      <td>1.024500e-07</td>\n",
       "      <td>0.000102</td>\n",
       "      <td>...</td>\n",
       "      <td>2099.874216</td>\n",
       "      <td>2399.435012</td>\n",
       "      <td>2398.052702</td>\n",
       "      <td>2387.738822</td>\n",
       "      <td>2399.317871</td>\n",
       "      <td>287.369859</td>\n",
       "      <td>265.808950</td>\n",
       "      <td>996.995546</td>\n",
       "      <td>0</td>\n",
       "      <td>324</td>\n",
       "    </tr>\n",
       "    <tr>\n",
       "      <th>652</th>\n",
       "      <td>752</td>\n",
       "      <td>86400</td>\n",
       "      <td>0.000003</td>\n",
       "      <td>0.00004</td>\n",
       "      <td>1.157407e-07</td>\n",
       "      <td>1.157407e-08</td>\n",
       "      <td>1.000000e-18</td>\n",
       "      <td>0</td>\n",
       "      <td>1.024500e-07</td>\n",
       "      <td>0.001025</td>\n",
       "      <td>...</td>\n",
       "      <td>2100.061384</td>\n",
       "      <td>2398.431438</td>\n",
       "      <td>2398.202694</td>\n",
       "      <td>2387.861589</td>\n",
       "      <td>2399.469014</td>\n",
       "      <td>287.270339</td>\n",
       "      <td>265.935120</td>\n",
       "      <td>985.597480</td>\n",
       "      <td>0</td>\n",
       "      <td>324</td>\n",
       "    </tr>\n",
       "    <tr>\n",
       "      <th>655</th>\n",
       "      <td>755</td>\n",
       "      <td>86400</td>\n",
       "      <td>0.000003</td>\n",
       "      <td>0.00004</td>\n",
       "      <td>1.157407e-07</td>\n",
       "      <td>1.157407e-08</td>\n",
       "      <td>1.000000e-18</td>\n",
       "      <td>0</td>\n",
       "      <td>1.024500e-07</td>\n",
       "      <td>0.010245</td>\n",
       "      <td>...</td>\n",
       "      <td>2102.074523</td>\n",
       "      <td>2389.286199</td>\n",
       "      <td>2399.556283</td>\n",
       "      <td>2389.394347</td>\n",
       "      <td>2400.842832</td>\n",
       "      <td>286.365415</td>\n",
       "      <td>267.052634</td>\n",
       "      <td>887.036043</td>\n",
       "      <td>0</td>\n",
       "      <td>324</td>\n",
       "    </tr>\n",
       "    <tr>\n",
       "      <th>675</th>\n",
       "      <td>775</td>\n",
       "      <td>86400</td>\n",
       "      <td>0.000003</td>\n",
       "      <td>0.00004</td>\n",
       "      <td>1.157407e-07</td>\n",
       "      <td>1.157407e-08</td>\n",
       "      <td>1.000000e-19</td>\n",
       "      <td>0</td>\n",
       "      <td>1.024500e-07</td>\n",
       "      <td>0.000102</td>\n",
       "      <td>...</td>\n",
       "      <td>2099.846777</td>\n",
       "      <td>2399.554472</td>\n",
       "      <td>2398.023653</td>\n",
       "      <td>2387.725904</td>\n",
       "      <td>2399.299646</td>\n",
       "      <td>287.388905</td>\n",
       "      <td>265.784674</td>\n",
       "      <td>998.362372</td>\n",
       "      <td>0</td>\n",
       "      <td>324</td>\n",
       "    </tr>\n",
       "    <tr>\n",
       "      <th>676</th>\n",
       "      <td>776</td>\n",
       "      <td>86400</td>\n",
       "      <td>0.000003</td>\n",
       "      <td>0.00004</td>\n",
       "      <td>1.157407e-07</td>\n",
       "      <td>1.157407e-08</td>\n",
       "      <td>1.000000e-19</td>\n",
       "      <td>0</td>\n",
       "      <td>1.024500e-07</td>\n",
       "      <td>0.000102</td>\n",
       "      <td>...</td>\n",
       "      <td>2099.859451</td>\n",
       "      <td>2399.457416</td>\n",
       "      <td>2398.043471</td>\n",
       "      <td>2387.736752</td>\n",
       "      <td>2399.314212</td>\n",
       "      <td>287.383971</td>\n",
       "      <td>265.790331</td>\n",
       "      <td>997.254197</td>\n",
       "      <td>0</td>\n",
       "      <td>324</td>\n",
       "    </tr>\n",
       "  </tbody>\n",
       "</table>\n",
       "<p>5 rows × 42 columns</p>\n",
       "</div>"
      ],
      "text/plain": [
       "      id  dt(s)     t(yr)  rFeC_pb           mu0           m_l           m_q  \\\n",
       "649  749  86400  0.000003  0.00004  1.157407e-07  1.157407e-08  1.000000e-18   \n",
       "652  752  86400  0.000003  0.00004  1.157407e-07  1.157407e-08  1.000000e-18   \n",
       "655  755  86400  0.000003  0.00004  1.157407e-07  1.157407e-08  1.000000e-18   \n",
       "675  775  86400  0.000003  0.00004  1.157407e-07  1.157407e-08  1.000000e-19   \n",
       "676  776  86400  0.000003  0.00004  1.157407e-07  1.157407e-08  1.000000e-19   \n",
       "\n",
       "     kappa         kfe_p   kldoc_p  ...       DIC(2)       DIC(3)  \\\n",
       "649      0  1.024500e-07  0.000102  ...  2099.874216  2399.435012   \n",
       "652      0  1.024500e-07  0.001025  ...  2100.061384  2398.431438   \n",
       "655      0  1.024500e-07  0.010245  ...  2102.074523  2389.286199   \n",
       "675      0  1.024500e-07  0.000102  ...  2099.846777  2399.554472   \n",
       "676      0  1.024500e-07  0.000102  ...  2099.859451  2399.457416   \n",
       "\n",
       "          ALK(1)       ALK(2)       ALK(3)   OCPCO2(1)   OCPCO2(2)  \\\n",
       "649  2398.052702  2387.738822  2399.317871  287.369859  265.808950   \n",
       "652  2398.202694  2387.861589  2399.469014  287.270339  265.935120   \n",
       "655  2399.556283  2389.394347  2400.842832  286.365415  267.052634   \n",
       "675  2398.023653  2387.725904  2399.299646  287.388905  265.784674   \n",
       "676  2398.043471  2387.736752  2399.314212  287.383971  265.790331   \n",
       "\n",
       "      OCPCO2(3)  ATPCO2  Limit  \n",
       "649  996.995546       0    324  \n",
       "652  985.597480       0    324  \n",
       "655  887.036043       0    324  \n",
       "675  998.362372       0    324  \n",
       "676  997.254197       0    324  \n",
       "\n",
       "[5 rows x 42 columns]"
      ]
     },
     "execution_count": 69,
     "metadata": {},
     "output_type": "execute_result"
    }
   ],
   "source": [
    "data_sel.head()"
   ]
  },
  {
   "cell_type": "code",
   "execution_count": 70,
   "metadata": {},
   "outputs": [
    {
     "data": {
      "image/png": "[encoded data removed]",
      "text/plain": [
       "<Figure size 1000x1000 with 5 Axes>"
      ]
     },
     "metadata": {},
     "output_type": "display_data"
    }
   ],
   "source": [
    "### show the distribution of m_l, m_q, mu0, kfe_p, kldoc_p\n",
    "### Show in historgrams in figure with 5 subplots\n",
    "### use log scale for the x-axis\n",
    "\n",
    "fig, axs = plt.subplots(5, sharex=False, sharey=False, figsize=(10, 10))\n",
    "\n",
    "# Plot for 'm_l'\n",
    "axs[0].hist(data_sel['m_l'], bins=50)\n",
    "axs[0].set_title('m_l')\n",
    "axs[0].set_xscale('log')  # Set log scale on the x-axis\n",
    "\n",
    "# Plot for 'm_q'\n",
    "axs[1].hist(data_sel['m_q'], bins=50)\n",
    "axs[1].set_title('m_q')\n",
    "axs[1].set_xscale('log')  # Set log scale on the x-axis\n",
    "\n",
    "# Plot for 'mu0'\n",
    "axs[2].hist(data_sel['mu0'], bins=50)\n",
    "axs[2].set_title('mu0')\n",
    "axs[2].set_xscale('log')  # Set log scale on the x-axis\n",
    "\n",
    "# Plot for 'kfe_p'\n",
    "axs[3].hist(data_sel['kfe_p'], bins=50)\n",
    "axs[3].set_title('kfe_p')\n",
    "axs[3].set_xscale('log')  # Set log scale on the x-axis\n",
    "\n",
    "# Plot for 'kldoc_p'\n",
    "axs[4].hist(data_sel['kldoc_p'], bins=50)\n",
    "axs[4].set_title('kldoc_p')\n",
    "axs[4].set_xscale('log')  # Set log scale on the x-axis\n",
    "\n",
    "plt.show()\n"
   ]
  },
  {
   "cell_type": "code",
   "execution_count": 71,
   "metadata": {},
   "outputs": [
    {
     "name": "stdout",
     "output_type": "stream",
     "text": [
      "phi 0.0001    0.455023\n",
      "0.0010    0.350467\n",
      "0.0100    0.194509\n",
      "Name: phi, dtype: float64\n",
      "-----------------------------------------------------------------\n",
      "m_l 1.157407e-08    0.183411\n",
      "1.157407e-09    0.167640\n",
      "0.000000e+00    0.099883\n",
      "1.157407e-10    0.099299\n",
      "1.157407e-11    0.099299\n",
      "1.157407e-14    0.099299\n",
      "1.157407e-12    0.098715\n",
      "1.157407e-13    0.098715\n",
      "1.157407e-07    0.053738\n",
      "Name: m_l, dtype: float64\n",
      "-----------------------------------------------------------------\n",
      "m_q 1.000000e-18    0.306075\n",
      "1.000000e-19    0.275117\n",
      "1.000000e-20    0.176986\n",
      "0.000000e+00    0.166472\n",
      "1.000000e-17    0.075350\n",
      "Name: m_q, dtype: float64\n",
      "-----------------------------------------------------------------\n",
      "mu0 1.157407e-06    0.327103\n",
      "1.157407e-05    0.289136\n",
      "1.157407e-07    0.233061\n",
      "1.157407e-04    0.150701\n",
      "Name: mu0, dtype: float64\n",
      "-----------------------------------------------------------------\n",
      "kfe_p 1.024500e-07    0.361565\n",
      "1.024500e-06    0.334112\n",
      "1.024500e-05    0.304322\n",
      "Name: kfe_p, dtype: float64\n",
      "-----------------------------------------------------------------\n",
      "kldoc_p 0.010245    0.452103\n",
      "0.001025    0.328271\n",
      "0.000102    0.219626\n",
      "Name: kldoc_p, dtype: float64\n"
     ]
    }
   ],
   "source": [
    "### Show the unique values for each parameter\n",
    "\n",
    "### And give the proportion of the total number of rows for each unique value\n",
    "print('phi', data_sel['phi'].value_counts(normalize=True))\n",
    "print('-----------------------------------------------------------------')\n",
    "print('m_l', data_sel['m_l'].value_counts(normalize=True))\n",
    "print('-----------------------------------------------------------------')\n",
    "print('m_q', data_sel['m_q'].value_counts(normalize=True))\n",
    "print('-----------------------------------------------------------------')\n",
    "print('mu0', data_sel['mu0'].value_counts(normalize=True))\n",
    "print('-----------------------------------------------------------------')\n",
    "print('kfe_p', data_sel['kfe_p'].value_counts(normalize=True))\n",
    "print('-----------------------------------------------------------------')\n",
    "print('kldoc_p', data_sel['kldoc_p'].value_counts(normalize=True))\n",
    "\n",
    "\n"
   ]
  },
  {
   "cell_type": "code",
   "execution_count": null,
   "metadata": {},
   "outputs": [],
   "source": []
  }
 ],
 "metadata": {
  "kernelspec": {
   "display_name": "env_MT",
   "language": "python",
   "name": "python3"
  },
  "language_info": {
   "codemirror_mode": {
    "name": "ipython",
    "version": 3
   },
   "file_extension": ".py",
   "mimetype": "text/x-python",
   "name": "python",
   "nbconvert_exporter": "python",
   "pygments_lexer": "ipython3",
   "version": "3.9.18"
  }
 },
 "nbformat": 4,
 "nbformat_minor": 2
}
