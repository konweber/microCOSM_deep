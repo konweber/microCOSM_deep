{
 "cells": [
  {
   "cell_type": "code",
   "execution_count": null,
   "metadata": {},
   "outputs": [],
   "source": []
  },
  {
   "cell_type": "code",
   "execution_count": 1,
   "metadata": {},
   "outputs": [],
   "source": [
    "### Import data analysis libraries\n",
    "\n",
    "import pandas as pd\n",
    "import numpy as np\n",
    "import matplotlib.pyplot as plt\n",
    "import os\n",
    "\n"
   ]
  },
  {
   "cell_type": "code",
   "execution_count": 2,
   "metadata": {},
   "outputs": [
    {
     "data": {
      "text/plain": [
       "'c:\\\\Users\\\\konst\\\\Documents\\\\_Master_Thesis\\\\Code\\\\microCOSM_deep\\\\Ensemble3'"
      ]
     },
     "execution_count": 2,
     "metadata": {},
     "output_type": "execute_result"
    }
   ],
   "source": [
    "os.getcwd()"
   ]
  },
  {
   "cell_type": "code",
   "execution_count": 52,
   "metadata": {},
   "outputs": [],
   "source": [
    "data = pd.read_csv('ensemble3_output.csv', delimiter=' ')"
   ]
  },
  {
   "cell_type": "code",
   "execution_count": 53,
   "metadata": {},
   "outputs": [
    {
     "data": {
      "text/html": [
       "<div>\n",
       "<style scoped>\n",
       "    .dataframe tbody tr th:only-of-type {\n",
       "        vertical-align: middle;\n",
       "    }\n",
       "\n",
       "    .dataframe tbody tr th {\n",
       "        vertical-align: top;\n",
       "    }\n",
       "\n",
       "    .dataframe thead th {\n",
       "        text-align: right;\n",
       "    }\n",
       "</style>\n",
       "<table border=\"1\" class=\"dataframe\">\n",
       "  <thead>\n",
       "    <tr style=\"text-align: right;\">\n",
       "      <th></th>\n",
       "      <th>id</th>\n",
       "      <th>dt(s)</th>\n",
       "      <th>t(yr)</th>\n",
       "      <th>rFeC_pb</th>\n",
       "      <th>mu0</th>\n",
       "      <th>m_l</th>\n",
       "      <th>m_q</th>\n",
       "      <th>kappa</th>\n",
       "      <th>kfe_p</th>\n",
       "      <th>kldoc_p</th>\n",
       "      <th>...</th>\n",
       "      <th>DIC(2)</th>\n",
       "      <th>DIC(3)</th>\n",
       "      <th>ALK(1)</th>\n",
       "      <th>ALK(2)</th>\n",
       "      <th>ALK(3)</th>\n",
       "      <th>OCPCO2(1)</th>\n",
       "      <th>OCPCO2(2)</th>\n",
       "      <th>OCPCO2(3)</th>\n",
       "      <th>ATPCO2</th>\n",
       "      <th>Limit</th>\n",
       "    </tr>\n",
       "  </thead>\n",
       "  <tbody>\n",
       "    <tr>\n",
       "      <th>0</th>\n",
       "      <td>15000.0</td>\n",
       "      <td>86400.0</td>\n",
       "      <td>0.000032</td>\n",
       "      <td>0.00004</td>\n",
       "      <td>1.157407e-07</td>\n",
       "      <td>1.157407e-07</td>\n",
       "      <td>1.000000e-17</td>\n",
       "      <td>0.0</td>\n",
       "      <td>1.024500e-07</td>\n",
       "      <td>0.000102</td>\n",
       "      <td>...</td>\n",
       "      <td>2120.428441</td>\n",
       "      <td>2349.235195</td>\n",
       "      <td>2397.305204</td>\n",
       "      <td>2395.490214</td>\n",
       "      <td>2405.197061</td>\n",
       "      <td>270.080343</td>\n",
       "      <td>287.095455</td>\n",
       "      <td>571.126440</td>\n",
       "      <td>0.0</td>\n",
       "      <td>324.0</td>\n",
       "    </tr>\n",
       "    <tr>\n",
       "      <th>1</th>\n",
       "      <td>15001.0</td>\n",
       "      <td>86400.0</td>\n",
       "      <td>0.000032</td>\n",
       "      <td>0.00004</td>\n",
       "      <td>1.157407e-07</td>\n",
       "      <td>1.157407e-07</td>\n",
       "      <td>1.000000e-17</td>\n",
       "      <td>0.0</td>\n",
       "      <td>1.024500e-07</td>\n",
       "      <td>0.000102</td>\n",
       "      <td>...</td>\n",
       "      <td>2154.700807</td>\n",
       "      <td>2159.787961</td>\n",
       "      <td>2434.227937</td>\n",
       "      <td>2434.227928</td>\n",
       "      <td>2434.227939</td>\n",
       "      <td>266.143077</td>\n",
       "      <td>291.695650</td>\n",
       "      <td>120.540403</td>\n",
       "      <td>0.0</td>\n",
       "      <td>222.0</td>\n",
       "    </tr>\n",
       "    <tr>\n",
       "      <th>2</th>\n",
       "      <td>15002.0</td>\n",
       "      <td>86400.0</td>\n",
       "      <td>0.000032</td>\n",
       "      <td>0.00004</td>\n",
       "      <td>1.157407e-07</td>\n",
       "      <td>1.157407e-07</td>\n",
       "      <td>1.000000e-17</td>\n",
       "      <td>0.0</td>\n",
       "      <td>1.024500e-07</td>\n",
       "      <td>0.000102</td>\n",
       "      <td>...</td>\n",
       "      <td>2154.709707</td>\n",
       "      <td>2162.364347</td>\n",
       "      <td>2434.227941</td>\n",
       "      <td>2434.227941</td>\n",
       "      <td>2434.227941</td>\n",
       "      <td>266.365903</td>\n",
       "      <td>291.709481</td>\n",
       "      <td>122.262001</td>\n",
       "      <td>0.0</td>\n",
       "      <td>222.0</td>\n",
       "    </tr>\n",
       "    <tr>\n",
       "      <th>3</th>\n",
       "      <td>15003.0</td>\n",
       "      <td>86400.0</td>\n",
       "      <td>0.000032</td>\n",
       "      <td>0.00004</td>\n",
       "      <td>1.157407e-07</td>\n",
       "      <td>1.157407e-07</td>\n",
       "      <td>1.000000e-17</td>\n",
       "      <td>0.0</td>\n",
       "      <td>1.024500e-07</td>\n",
       "      <td>0.001025</td>\n",
       "      <td>...</td>\n",
       "      <td>2120.428441</td>\n",
       "      <td>2349.235195</td>\n",
       "      <td>2397.305204</td>\n",
       "      <td>2395.490214</td>\n",
       "      <td>2405.197061</td>\n",
       "      <td>270.080343</td>\n",
       "      <td>287.095455</td>\n",
       "      <td>571.126440</td>\n",
       "      <td>0.0</td>\n",
       "      <td>324.0</td>\n",
       "    </tr>\n",
       "    <tr>\n",
       "      <th>4</th>\n",
       "      <td>15004.0</td>\n",
       "      <td>86400.0</td>\n",
       "      <td>0.000032</td>\n",
       "      <td>0.00004</td>\n",
       "      <td>1.157407e-07</td>\n",
       "      <td>1.157407e-07</td>\n",
       "      <td>1.000000e-17</td>\n",
       "      <td>0.0</td>\n",
       "      <td>1.024500e-07</td>\n",
       "      <td>0.001025</td>\n",
       "      <td>...</td>\n",
       "      <td>2154.700807</td>\n",
       "      <td>2159.787961</td>\n",
       "      <td>2434.227937</td>\n",
       "      <td>2434.227928</td>\n",
       "      <td>2434.227939</td>\n",
       "      <td>266.143077</td>\n",
       "      <td>291.695650</td>\n",
       "      <td>120.540403</td>\n",
       "      <td>0.0</td>\n",
       "      <td>222.0</td>\n",
       "    </tr>\n",
       "  </tbody>\n",
       "</table>\n",
       "<p>5 rows × 42 columns</p>\n",
       "</div>"
      ],
      "text/plain": [
       "        id    dt(s)     t(yr)  rFeC_pb           mu0           m_l  \\\n",
       "0  15000.0  86400.0  0.000032  0.00004  1.157407e-07  1.157407e-07   \n",
       "1  15001.0  86400.0  0.000032  0.00004  1.157407e-07  1.157407e-07   \n",
       "2  15002.0  86400.0  0.000032  0.00004  1.157407e-07  1.157407e-07   \n",
       "3  15003.0  86400.0  0.000032  0.00004  1.157407e-07  1.157407e-07   \n",
       "4  15004.0  86400.0  0.000032  0.00004  1.157407e-07  1.157407e-07   \n",
       "\n",
       "            m_q  kappa         kfe_p   kldoc_p  ...       DIC(2)       DIC(3)  \\\n",
       "0  1.000000e-17    0.0  1.024500e-07  0.000102  ...  2120.428441  2349.235195   \n",
       "1  1.000000e-17    0.0  1.024500e-07  0.000102  ...  2154.700807  2159.787961   \n",
       "2  1.000000e-17    0.0  1.024500e-07  0.000102  ...  2154.709707  2162.364347   \n",
       "3  1.000000e-17    0.0  1.024500e-07  0.001025  ...  2120.428441  2349.235195   \n",
       "4  1.000000e-17    0.0  1.024500e-07  0.001025  ...  2154.700807  2159.787961   \n",
       "\n",
       "        ALK(1)       ALK(2)       ALK(3)   OCPCO2(1)   OCPCO2(2)   OCPCO2(3)  \\\n",
       "0  2397.305204  2395.490214  2405.197061  270.080343  287.095455  571.126440   \n",
       "1  2434.227937  2434.227928  2434.227939  266.143077  291.695650  120.540403   \n",
       "2  2434.227941  2434.227941  2434.227941  266.365903  291.709481  122.262001   \n",
       "3  2397.305204  2395.490214  2405.197061  270.080343  287.095455  571.126440   \n",
       "4  2434.227937  2434.227928  2434.227939  266.143077  291.695650  120.540403   \n",
       "\n",
       "   ATPCO2  Limit  \n",
       "0     0.0  324.0  \n",
       "1     0.0  222.0  \n",
       "2     0.0  222.0  \n",
       "3     0.0  324.0  \n",
       "4     0.0  222.0  \n",
       "\n",
       "[5 rows x 42 columns]"
      ]
     },
     "execution_count": 53,
     "metadata": {},
     "output_type": "execute_result"
    }
   ],
   "source": [
    "data.head()"
   ]
  },
  {
   "cell_type": "code",
   "execution_count": 12,
   "metadata": {},
   "outputs": [
    {
     "data": {
      "text/plain": [
       "(4860, 42)"
      ]
     },
     "execution_count": 12,
     "metadata": {},
     "output_type": "execute_result"
    }
   ],
   "source": [
    "data.shape"
   ]
  },
  {
   "cell_type": "code",
   "execution_count": 13,
   "metadata": {},
   "outputs": [
    {
     "data": {
      "text/html": [
       "<div>\n",
       "<style scoped>\n",
       "    .dataframe tbody tr th:only-of-type {\n",
       "        vertical-align: middle;\n",
       "    }\n",
       "\n",
       "    .dataframe tbody tr th {\n",
       "        vertical-align: top;\n",
       "    }\n",
       "\n",
       "    .dataframe thead th {\n",
       "        text-align: right;\n",
       "    }\n",
       "</style>\n",
       "<table border=\"1\" class=\"dataframe\">\n",
       "  <thead>\n",
       "    <tr style=\"text-align: right;\">\n",
       "      <th></th>\n",
       "      <th>id</th>\n",
       "      <th>dt(s)</th>\n",
       "      <th>t(yr)</th>\n",
       "      <th>rFeC_pb</th>\n",
       "      <th>mu0</th>\n",
       "      <th>m_l</th>\n",
       "      <th>m_q</th>\n",
       "      <th>kappa</th>\n",
       "      <th>kfe_p</th>\n",
       "      <th>kldoc_p</th>\n",
       "      <th>...</th>\n",
       "      <th>DIC(2)</th>\n",
       "      <th>DIC(3)</th>\n",
       "      <th>ALK(1)</th>\n",
       "      <th>ALK(2)</th>\n",
       "      <th>ALK(3)</th>\n",
       "      <th>OCPCO2(1)</th>\n",
       "      <th>OCPCO2(2)</th>\n",
       "      <th>OCPCO2(3)</th>\n",
       "      <th>ATPCO2</th>\n",
       "      <th>Limit</th>\n",
       "    </tr>\n",
       "  </thead>\n",
       "  <tbody>\n",
       "    <tr>\n",
       "      <th>4855</th>\n",
       "      <td>19855.0</td>\n",
       "      <td>86400.0</td>\n",
       "      <td>0.000032</td>\n",
       "      <td>0.00004</td>\n",
       "      <td>0.000116</td>\n",
       "      <td>0.0</td>\n",
       "      <td>0.0</td>\n",
       "      <td>0.0</td>\n",
       "      <td>0.00001</td>\n",
       "      <td>0.001025</td>\n",
       "      <td>...</td>\n",
       "      <td>NaN</td>\n",
       "      <td>NaN</td>\n",
       "      <td>NaN</td>\n",
       "      <td>NaN</td>\n",
       "      <td>NaN</td>\n",
       "      <td>NaN</td>\n",
       "      <td>NaN</td>\n",
       "      <td>NaN</td>\n",
       "      <td>0.0</td>\n",
       "      <td>444.0</td>\n",
       "    </tr>\n",
       "    <tr>\n",
       "      <th>4856</th>\n",
       "      <td>19856.0</td>\n",
       "      <td>86400.0</td>\n",
       "      <td>0.000032</td>\n",
       "      <td>0.00004</td>\n",
       "      <td>0.000116</td>\n",
       "      <td>0.0</td>\n",
       "      <td>0.0</td>\n",
       "      <td>0.0</td>\n",
       "      <td>0.00001</td>\n",
       "      <td>0.001025</td>\n",
       "      <td>...</td>\n",
       "      <td>NaN</td>\n",
       "      <td>NaN</td>\n",
       "      <td>NaN</td>\n",
       "      <td>NaN</td>\n",
       "      <td>NaN</td>\n",
       "      <td>NaN</td>\n",
       "      <td>NaN</td>\n",
       "      <td>NaN</td>\n",
       "      <td>0.0</td>\n",
       "      <td>444.0</td>\n",
       "    </tr>\n",
       "    <tr>\n",
       "      <th>4857</th>\n",
       "      <td>19857.0</td>\n",
       "      <td>86400.0</td>\n",
       "      <td>0.000032</td>\n",
       "      <td>0.00004</td>\n",
       "      <td>0.000116</td>\n",
       "      <td>0.0</td>\n",
       "      <td>0.0</td>\n",
       "      <td>0.0</td>\n",
       "      <td>0.00001</td>\n",
       "      <td>0.010245</td>\n",
       "      <td>...</td>\n",
       "      <td>NaN</td>\n",
       "      <td>NaN</td>\n",
       "      <td>NaN</td>\n",
       "      <td>NaN</td>\n",
       "      <td>NaN</td>\n",
       "      <td>NaN</td>\n",
       "      <td>NaN</td>\n",
       "      <td>NaN</td>\n",
       "      <td>0.0</td>\n",
       "      <td>444.0</td>\n",
       "    </tr>\n",
       "    <tr>\n",
       "      <th>4858</th>\n",
       "      <td>19858.0</td>\n",
       "      <td>86400.0</td>\n",
       "      <td>0.000032</td>\n",
       "      <td>0.00004</td>\n",
       "      <td>0.000116</td>\n",
       "      <td>0.0</td>\n",
       "      <td>0.0</td>\n",
       "      <td>0.0</td>\n",
       "      <td>0.00001</td>\n",
       "      <td>0.010245</td>\n",
       "      <td>...</td>\n",
       "      <td>NaN</td>\n",
       "      <td>NaN</td>\n",
       "      <td>NaN</td>\n",
       "      <td>NaN</td>\n",
       "      <td>NaN</td>\n",
       "      <td>NaN</td>\n",
       "      <td>NaN</td>\n",
       "      <td>NaN</td>\n",
       "      <td>0.0</td>\n",
       "      <td>444.0</td>\n",
       "    </tr>\n",
       "    <tr>\n",
       "      <th>4859</th>\n",
       "      <td>19859.0</td>\n",
       "      <td>86400.0</td>\n",
       "      <td>0.000032</td>\n",
       "      <td>0.00004</td>\n",
       "      <td>0.000116</td>\n",
       "      <td>0.0</td>\n",
       "      <td>0.0</td>\n",
       "      <td>0.0</td>\n",
       "      <td>0.00001</td>\n",
       "      <td>0.010245</td>\n",
       "      <td>...</td>\n",
       "      <td>NaN</td>\n",
       "      <td>NaN</td>\n",
       "      <td>NaN</td>\n",
       "      <td>NaN</td>\n",
       "      <td>NaN</td>\n",
       "      <td>NaN</td>\n",
       "      <td>NaN</td>\n",
       "      <td>NaN</td>\n",
       "      <td>0.0</td>\n",
       "      <td>444.0</td>\n",
       "    </tr>\n",
       "  </tbody>\n",
       "</table>\n",
       "<p>5 rows × 42 columns</p>\n",
       "</div>"
      ],
      "text/plain": [
       "           id    dt(s)     t(yr)  rFeC_pb       mu0  m_l  m_q  kappa    kfe_p  \\\n",
       "4855  19855.0  86400.0  0.000032  0.00004  0.000116  0.0  0.0    0.0  0.00001   \n",
       "4856  19856.0  86400.0  0.000032  0.00004  0.000116  0.0  0.0    0.0  0.00001   \n",
       "4857  19857.0  86400.0  0.000032  0.00004  0.000116  0.0  0.0    0.0  0.00001   \n",
       "4858  19858.0  86400.0  0.000032  0.00004  0.000116  0.0  0.0    0.0  0.00001   \n",
       "4859  19859.0  86400.0  0.000032  0.00004  0.000116  0.0  0.0    0.0  0.00001   \n",
       "\n",
       "       kldoc_p  ...  DIC(2)  DIC(3)  ALK(1)  ALK(2)  ALK(3)  OCPCO2(1)  \\\n",
       "4855  0.001025  ...     NaN     NaN     NaN     NaN     NaN        NaN   \n",
       "4856  0.001025  ...     NaN     NaN     NaN     NaN     NaN        NaN   \n",
       "4857  0.010245  ...     NaN     NaN     NaN     NaN     NaN        NaN   \n",
       "4858  0.010245  ...     NaN     NaN     NaN     NaN     NaN        NaN   \n",
       "4859  0.010245  ...     NaN     NaN     NaN     NaN     NaN        NaN   \n",
       "\n",
       "      OCPCO2(2)  OCPCO2(3)  ATPCO2  Limit  \n",
       "4855        NaN        NaN     0.0  444.0  \n",
       "4856        NaN        NaN     0.0  444.0  \n",
       "4857        NaN        NaN     0.0  444.0  \n",
       "4858        NaN        NaN     0.0  444.0  \n",
       "4859        NaN        NaN     0.0  444.0  \n",
       "\n",
       "[5 rows x 42 columns]"
      ]
     },
     "execution_count": 13,
     "metadata": {},
     "output_type": "execute_result"
    }
   ],
   "source": [
    "### show the last rows of the data\n",
    "\n",
    "data.tail()"
   ]
  },
  {
   "cell_type": "code",
   "execution_count": 56,
   "metadata": {},
   "outputs": [],
   "source": [
    "### Select all rows where PO4(1) > 1 and PO4(3) > 1 and NO3(1) > 20 and NO3(3) > 20\n",
    "\n",
    "data_sel = data[(data['PO4(1)'] > 1) & (data['PO4(3)'] > 1) & (data['NO3(1)'] > 20) & (data['NO3(3)'] > 20)]"
   ]
  },
  {
   "cell_type": "code",
   "execution_count": 57,
   "metadata": {},
   "outputs": [
    {
     "data": {
      "text/plain": [
       "(218, 42)"
      ]
     },
     "execution_count": 57,
     "metadata": {},
     "output_type": "execute_result"
    }
   ],
   "source": [
    "data_sel.shape"
   ]
  },
  {
   "cell_type": "code",
   "execution_count": 58,
   "metadata": {},
   "outputs": [],
   "source": [
    "### Select all rows where LDOC(1) > 0, LDOC(2) > 0, LDOC(3) > 0\n",
    "### Select all rows where LDOC(1) < 80, LDOC(2) < 80, LDOC(3) < 80\n",
    "\n",
    "data_sel = data_sel[(data_sel['LDOC(1)'] > 0) & (data_sel['LDOC(2)'] > 0) & (data_sel['LDOC(3)'] > 0)]\n",
    "data_sel = data_sel[(data_sel['LDOC(1)'] < 100) & (data_sel['LDOC(2)'] < 100) & (data_sel['LDOC(3)'] < 100)]"
   ]
  },
  {
   "cell_type": "code",
   "execution_count": 59,
   "metadata": {},
   "outputs": [
    {
     "data": {
      "text/plain": [
       "(115, 42)"
      ]
     },
     "execution_count": 59,
     "metadata": {},
     "output_type": "execute_result"
    }
   ],
   "source": [
    "data_sel.shape"
   ]
  },
  {
   "cell_type": "code",
   "execution_count": 60,
   "metadata": {},
   "outputs": [
    {
     "data": {
      "image/png": "[encoded data removed]",
      "text/plain": [
       "<Figure size 640x480 with 1 Axes>"
      ]
     },
     "metadata": {},
     "output_type": "display_data"
    },
    {
     "name": "stdout",
     "output_type": "stream",
     "text": [
      "517     16.980462\n",
      "518      4.503806\n",
      "520     16.980434\n",
      "521      4.503567\n",
      "526     16.978728\n",
      "          ...    \n",
      "2420     2.863916\n",
      "2422    10.343800\n",
      "2426     2.863426\n",
      "2428    10.194127\n",
      "2429     2.863401\n",
      "Name: Lig(1), Length: 115, dtype: float64\n"
     ]
    },
    {
     "data": {
      "image/png": "[encoded data removed]",
      "text/plain": [
       "<Figure size 640x480 with 1 Axes>"
      ]
     },
     "metadata": {},
     "output_type": "display_data"
    },
    {
     "data": {
      "image/png": "[encoded data removed]",
      "text/plain": [
       "<Figure size 640x480 with 1 Axes>"
      ]
     },
     "metadata": {},
     "output_type": "display_data"
    }
   ],
   "source": [
    "### show the distribuion of Lig(1), Lig(2) and Lig(3)\n",
    "\n",
    "data_sel['Lig(1)'].hist(bins=100)\n",
    "plt.xlabel('Lig(1)')\n",
    "plt.ylabel('Frequency')\n",
    "plt.title('Lig(1) distribution')\n",
    "plt.show()\n",
    "\n",
    "\n",
    "data_sel['Lig(2)'].hist(bins=100)\n",
    "plt.xlabel('Lig(2)')\n",
    "plt.ylabel('Frequency')\n",
    "plt.title('Lig(2) distribution')\n",
    "plt.show()\n",
    "\n",
    "data_sel['Lig(3)'].hist(bins=100)\n",
    "plt.xlabel('Lig(3)')\n",
    "plt.ylabel('Frequency')\n",
    "plt.title('Lig(3) distribution')\n",
    "plt.show()\n"
   ]
  },
  {
   "cell_type": "code",
   "execution_count": 61,
   "metadata": {},
   "outputs": [
    {
     "name": "stdout",
     "output_type": "stream",
     "text": [
      "phi 0.001    0.591304\n",
      "0.010    0.408696\n",
      "Name: phi, dtype: float64\n",
      "-----------------------------------------------------------------\n",
      "m_l 1.157000e-14    0.173913\n",
      "0.000000e+00    0.173913\n",
      "1.157407e-10    0.165217\n",
      "1.157400e-12    0.165217\n",
      "1.157400e-13    0.165217\n",
      "1.157407e-11    0.156522\n",
      "Name: m_l, dtype: float64\n",
      "-----------------------------------------------------------------\n",
      "m_q 0.0    1.0\n",
      "Name: m_q, dtype: float64\n",
      "-----------------------------------------------------------------\n",
      "mu0 1.157407e-07    0.608696\n",
      "1.157407e-06    0.391304\n",
      "Name: mu0, dtype: float64\n",
      "-----------------------------------------------------------------\n",
      "kfe_p 1.024500e-06    0.356522\n",
      "1.024500e-05    0.330435\n",
      "1.024500e-07    0.313043\n",
      "Name: kfe_p, dtype: float64\n",
      "-----------------------------------------------------------------\n",
      "kldoc_p 0.010245    0.573913\n",
      "0.001025    0.313043\n",
      "0.000102    0.113043\n",
      "Name: kldoc_p, dtype: float64\n"
     ]
    }
   ],
   "source": [
    "print('phi', data_sel['phi'].value_counts(normalize=True))\n",
    "print('-----------------------------------------------------------------')\n",
    "print('m_l', data_sel['m_l'].value_counts(normalize=True))\n",
    "print('-----------------------------------------------------------------')\n",
    "print('m_q', data_sel['m_q'].value_counts(normalize=True))\n",
    "print('-----------------------------------------------------------------')\n",
    "print('mu0', data_sel['mu0'].value_counts(normalize=True))\n",
    "print('-----------------------------------------------------------------')\n",
    "print('kfe_p', data_sel['kfe_p'].value_counts(normalize=True))\n",
    "print('-----------------------------------------------------------------')\n",
    "print('kldoc_p', data_sel['kldoc_p'].value_counts(normalize=True))"
   ]
  },
  {
   "cell_type": "code",
   "execution_count": 44,
   "metadata": {},
   "outputs": [],
   "source": [
    "### Select all rows where Lig(1) > 0, Lig(2) > 0, Lig(3) > 0\n",
    "### Select all rows where Lig(1) < 6, Lig(2) < 6, Lig(3) < 6\n",
    "\n",
    "data_sel = data_sel[(data_sel['Lig(1)'] > 0) & (data_sel['Lig(2)'] > 0) & (data_sel['Lig(3)'] > 0)]\n",
    "data_sel = data_sel[(data_sel['Lig(1)'] < 6) & (data_sel['Lig(2)'] < 6) & (data_sel['Lig(3)'] < 6)]\n"
   ]
  },
  {
   "cell_type": "code",
   "execution_count": 45,
   "metadata": {},
   "outputs": [
    {
     "data": {
      "text/plain": [
       "(47, 42)"
      ]
     },
     "execution_count": 45,
     "metadata": {},
     "output_type": "execute_result"
    }
   ],
   "source": [
    "data_sel.shape"
   ]
  },
  {
   "cell_type": "code",
   "execution_count": 46,
   "metadata": {},
   "outputs": [
    {
     "data": {
      "image/png": "[encoded data removed]",
      "text/plain": [
       "<Figure size 640x480 with 1 Axes>"
      ]
     },
     "metadata": {},
     "output_type": "display_data"
    },
    {
     "data": {
      "image/png": "[encoded data removed]",
      "text/plain": [
       "<Figure size 640x480 with 1 Axes>"
      ]
     },
     "metadata": {},
     "output_type": "display_data"
    },
    {
     "data": {
      "image/png": "[encoded data removed]",
      "text/plain": [
       "<Figure size 640x480 with 1 Axes>"
      ]
     },
     "metadata": {},
     "output_type": "display_data"
    }
   ],
   "source": [
    "### Show histogram of Fe(1), Fe(2), Fe(3)\n",
    "\n",
    "plt.hist(data_sel['Fe(1)'], bins=50)\n",
    "plt.show()\n",
    "\n",
    "plt.hist(data_sel['Fe(2)'], bins=50)\n",
    "plt.show()\n",
    "\n",
    "plt.hist(data_sel['Fe(3)'], bins=50)\n",
    "plt.show()\n"
   ]
  },
  {
   "cell_type": "code",
   "execution_count": 49,
   "metadata": {},
   "outputs": [
    {
     "data": {
      "text/plain": [
       "Index(['id', 'dt(s)', 't(yr)', 'rFeC_pb', 'mu0', 'm_l', 'm_q', 'kappa',\n",
       "       'kfe_p', 'kldoc_p', 'pge', 'phi', 'rCLig', 'PB(1)', 'PB(2)', 'PB(3)',\n",
       "       'LDOC(1)', 'LDOC(2)', 'LDOC(3)', 'Fe(1)', 'Fe(2)', 'Fe(3)', 'PO4(1)',\n",
       "       'PO4(2)', 'PO4(3)', 'NO3(1)', 'NO3(2)', 'NO3(3)', 'Lig(1)', 'Lig(2)',\n",
       "       'Lig(3)', 'DIC(1)', 'DIC(2)', 'DIC(3)', 'ALK(1)', 'ALK(2)', 'ALK(3)',\n",
       "       'OCPCO2(1)', 'OCPCO2(2)', 'OCPCO2(3)', 'ATPCO2', 'Limit'],\n",
       "      dtype='object')"
      ]
     },
     "execution_count": 49,
     "metadata": {},
     "output_type": "execute_result"
    }
   ],
   "source": [
    "### show all all data including all columns of the data table\n",
    "\n",
    "\n",
    "\n"
   ]
  },
  {
   "cell_type": "code",
   "execution_count": 48,
   "metadata": {},
   "outputs": [
    {
     "name": "stdout",
     "output_type": "stream",
     "text": [
      "phi 0.01    1.0\n",
      "Name: phi, dtype: float64\n",
      "-----------------------------------------------------------------\n",
      "m_l 1.157407e-10    0.170213\n",
      "1.157407e-11    0.170213\n",
      "1.157400e-12    0.170213\n",
      "1.157000e-14    0.170213\n",
      "0.000000e+00    0.170213\n",
      "1.157400e-13    0.148936\n",
      "Name: m_l, dtype: float64\n",
      "-----------------------------------------------------------------\n",
      "m_q 0.0    1.0\n",
      "Name: m_q, dtype: float64\n",
      "-----------------------------------------------------------------\n",
      "mu0 1.157407e-07    0.510638\n",
      "1.157407e-06    0.489362\n",
      "Name: mu0, dtype: float64\n",
      "-----------------------------------------------------------------\n",
      "kfe_p 1.024500e-07    0.382979\n",
      "1.024500e-06    0.382979\n",
      "1.024500e-05    0.234043\n",
      "Name: kfe_p, dtype: float64\n",
      "-----------------------------------------------------------------\n",
      "kldoc_p 0.010245    0.638298\n",
      "0.001025    0.361702\n",
      "Name: kldoc_p, dtype: float64\n"
     ]
    }
   ],
   "source": [
    "print('phi', data_sel['phi'].value_counts(normalize=True))\n",
    "print('-----------------------------------------------------------------')\n",
    "print('m_l', data_sel['m_l'].value_counts(normalize=True))\n",
    "print('-----------------------------------------------------------------')\n",
    "print('m_q', data_sel['m_q'].value_counts(normalize=True))\n",
    "print('-----------------------------------------------------------------')\n",
    "print('mu0', data_sel['mu0'].value_counts(normalize=True))\n",
    "print('-----------------------------------------------------------------')\n",
    "print('kfe_p', data_sel['kfe_p'].value_counts(normalize=True))\n",
    "print('-----------------------------------------------------------------')\n",
    "print('kldoc_p', data_sel['kldoc_p'].value_counts(normalize=True))"
   ]
  },
  {
   "cell_type": "code",
   "execution_count": 22,
   "metadata": {},
   "outputs": [],
   "source": [
    "### Select all rows where Fe(1) > 0.001, Fe(2) > 0.3, Fe(3) > 0.2\n",
    "\n",
    "data_sel = data_sel[(data_sel['Fe(1)'] > 0.001) & (data_sel['Fe(2)'] > 0.1) & (data_sel['Fe(3)'] > 0.2)]\n"
   ]
  },
  {
   "cell_type": "code",
   "execution_count": 23,
   "metadata": {},
   "outputs": [
    {
     "data": {
      "text/plain": [
       "(0, 42)"
      ]
     },
     "execution_count": 23,
     "metadata": {},
     "output_type": "execute_result"
    }
   ],
   "source": [
    "data_sel.shape"
   ]
  },
  {
   "cell_type": "code",
   "execution_count": 24,
   "metadata": {},
   "outputs": [
    {
     "data": {
      "image/png": "[encoded data removed]",
      "text/plain": [
       "<Figure size 640x480 with 1 Axes>"
      ]
     },
     "metadata": {},
     "output_type": "display_data"
    },
    {
     "data": {
      "image/png": "[encoded data removed]",
      "text/plain": [
       "<Figure size 640x480 with 1 Axes>"
      ]
     },
     "metadata": {},
     "output_type": "display_data"
    },
    {
     "data": {
      "image/png": "[encoded data removed]",
      "text/plain": [
       "<Figure size 640x480 with 1 Axes>"
      ]
     },
     "metadata": {},
     "output_type": "display_data"
    }
   ],
   "source": [
    "### Show histogram of PB(1), PB(2), PB(3)\n",
    "\n",
    "plt.hist(data_sel['PB(1)'], bins=50)\n",
    "plt.show()\n",
    "\n",
    "plt.hist(data_sel['PB(2)'], bins=50)\n",
    "plt.show()\n",
    "\n",
    "plt.hist(data_sel['PB(3)'], bins=50)\n",
    "plt.show()"
   ]
  },
  {
   "cell_type": "code",
   "execution_count": null,
   "metadata": {},
   "outputs": [],
   "source": [
    "### Select rows where PB(1) > 5, PB(2) > 5, PB(3) > 5\n",
    "### Select rows where PB(1) < 500, PB(2) < 500, PB(3) < 500\n",
    "\n",
    "data_sel = data_sel[(data_sel['PB(1)'] > 5) & (data_sel['PB(2)'] > 5) & (data_sel['PB(3)'] > 5)]\n",
    "data_sel = data_sel[(data_sel['PB(1)'] < 500) & (data_sel['PB(2)'] < 500) & (data_sel['PB(3)'] < 500)]"
   ]
  },
  {
   "cell_type": "code",
   "execution_count": null,
   "metadata": {},
   "outputs": [
    {
     "data": {
      "text/plain": [
       "(1712, 42)"
      ]
     },
     "metadata": {},
     "output_type": "display_data"
    }
   ],
   "source": [
    "### Get dimensions of data_sel\n",
    "\n",
    "data_sel.shape"
   ]
  },
  {
   "cell_type": "code",
   "execution_count": null,
   "metadata": {},
   "outputs": [
    {
     "data": {
      "text/html": [
       "<div>\n",
       "<style scoped>\n",
       "    .dataframe tbody tr th:only-of-type {\n",
       "        vertical-align: middle;\n",
       "    }\n",
       "\n",
       "    .dataframe tbody tr th {\n",
       "        vertical-align: top;\n",
       "    }\n",
       "\n",
       "    .dataframe thead th {\n",
       "        text-align: right;\n",
       "    }\n",
       "</style>\n",
       "<table border=\"1\" class=\"dataframe\">\n",
       "  <thead>\n",
       "    <tr style=\"text-align: right;\">\n",
       "      <th></th>\n",
       "      <th>id</th>\n",
       "      <th>dt(s)</th>\n",
       "      <th>t(yr)</th>\n",
       "      <th>rFeC_pb</th>\n",
       "      <th>mu0</th>\n",
       "      <th>m_l</th>\n",
       "      <th>m_q</th>\n",
       "      <th>kappa</th>\n",
       "      <th>kfe_p</th>\n",
       "      <th>kldoc_p</th>\n",
       "      <th>...</th>\n",
       "      <th>DIC(2)</th>\n",
       "      <th>DIC(3)</th>\n",
       "      <th>ALK(1)</th>\n",
       "      <th>ALK(2)</th>\n",
       "      <th>ALK(3)</th>\n",
       "      <th>OCPCO2(1)</th>\n",
       "      <th>OCPCO2(2)</th>\n",
       "      <th>OCPCO2(3)</th>\n",
       "      <th>ATPCO2</th>\n",
       "      <th>Limit</th>\n",
       "    </tr>\n",
       "  </thead>\n",
       "  <tbody>\n",
       "    <tr>\n",
       "      <th>649</th>\n",
       "      <td>749</td>\n",
       "      <td>86400</td>\n",
       "      <td>0.000003</td>\n",
       "      <td>0.00004</td>\n",
       "      <td>1.157407e-07</td>\n",
       "      <td>1.157407e-08</td>\n",
       "      <td>1.000000e-18</td>\n",
       "      <td>0</td>\n",
       "      <td>1.024500e-07</td>\n",
       "      <td>0.000102</td>\n",
       "      <td>...</td>\n",
       "      <td>2099.874216</td>\n",
       "      <td>2399.435012</td>\n",
       "      <td>2398.052702</td>\n",
       "      <td>2387.738822</td>\n",
       "      <td>2399.317871</td>\n",
       "      <td>287.369859</td>\n",
       "      <td>265.808950</td>\n",
       "      <td>996.995546</td>\n",
       "      <td>0</td>\n",
       "      <td>324</td>\n",
       "    </tr>\n",
       "    <tr>\n",
       "      <th>652</th>\n",
       "      <td>752</td>\n",
       "      <td>86400</td>\n",
       "      <td>0.000003</td>\n",
       "      <td>0.00004</td>\n",
       "      <td>1.157407e-07</td>\n",
       "      <td>1.157407e-08</td>\n",
       "      <td>1.000000e-18</td>\n",
       "      <td>0</td>\n",
       "      <td>1.024500e-07</td>\n",
       "      <td>0.001025</td>\n",
       "      <td>...</td>\n",
       "      <td>2100.061384</td>\n",
       "      <td>2398.431438</td>\n",
       "      <td>2398.202694</td>\n",
       "      <td>2387.861589</td>\n",
       "      <td>2399.469014</td>\n",
       "      <td>287.270339</td>\n",
       "      <td>265.935120</td>\n",
       "      <td>985.597480</td>\n",
       "      <td>0</td>\n",
       "      <td>324</td>\n",
       "    </tr>\n",
       "    <tr>\n",
       "      <th>655</th>\n",
       "      <td>755</td>\n",
       "      <td>86400</td>\n",
       "      <td>0.000003</td>\n",
       "      <td>0.00004</td>\n",
       "      <td>1.157407e-07</td>\n",
       "      <td>1.157407e-08</td>\n",
       "      <td>1.000000e-18</td>\n",
       "      <td>0</td>\n",
       "      <td>1.024500e-07</td>\n",
       "      <td>0.010245</td>\n",
       "      <td>...</td>\n",
       "      <td>2102.074523</td>\n",
       "      <td>2389.286199</td>\n",
       "      <td>2399.556283</td>\n",
       "      <td>2389.394347</td>\n",
       "      <td>2400.842832</td>\n",
       "      <td>286.365415</td>\n",
       "      <td>267.052634</td>\n",
       "      <td>887.036043</td>\n",
       "      <td>0</td>\n",
       "      <td>324</td>\n",
       "    </tr>\n",
       "    <tr>\n",
       "      <th>675</th>\n",
       "      <td>775</td>\n",
       "      <td>86400</td>\n",
       "      <td>0.000003</td>\n",
       "      <td>0.00004</td>\n",
       "      <td>1.157407e-07</td>\n",
       "      <td>1.157407e-08</td>\n",
       "      <td>1.000000e-19</td>\n",
       "      <td>0</td>\n",
       "      <td>1.024500e-07</td>\n",
       "      <td>0.000102</td>\n",
       "      <td>...</td>\n",
       "      <td>2099.846777</td>\n",
       "      <td>2399.554472</td>\n",
       "      <td>2398.023653</td>\n",
       "      <td>2387.725904</td>\n",
       "      <td>2399.299646</td>\n",
       "      <td>287.388905</td>\n",
       "      <td>265.784674</td>\n",
       "      <td>998.362372</td>\n",
       "      <td>0</td>\n",
       "      <td>324</td>\n",
       "    </tr>\n",
       "    <tr>\n",
       "      <th>676</th>\n",
       "      <td>776</td>\n",
       "      <td>86400</td>\n",
       "      <td>0.000003</td>\n",
       "      <td>0.00004</td>\n",
       "      <td>1.157407e-07</td>\n",
       "      <td>1.157407e-08</td>\n",
       "      <td>1.000000e-19</td>\n",
       "      <td>0</td>\n",
       "      <td>1.024500e-07</td>\n",
       "      <td>0.000102</td>\n",
       "      <td>...</td>\n",
       "      <td>2099.859451</td>\n",
       "      <td>2399.457416</td>\n",
       "      <td>2398.043471</td>\n",
       "      <td>2387.736752</td>\n",
       "      <td>2399.314212</td>\n",
       "      <td>287.383971</td>\n",
       "      <td>265.790331</td>\n",
       "      <td>997.254197</td>\n",
       "      <td>0</td>\n",
       "      <td>324</td>\n",
       "    </tr>\n",
       "  </tbody>\n",
       "</table>\n",
       "<p>5 rows × 42 columns</p>\n",
       "</div>"
      ],
      "text/plain": [
       "      id  dt(s)     t(yr)  rFeC_pb           mu0           m_l           m_q  \\\n",
       "649  749  86400  0.000003  0.00004  1.157407e-07  1.157407e-08  1.000000e-18   \n",
       "652  752  86400  0.000003  0.00004  1.157407e-07  1.157407e-08  1.000000e-18   \n",
       "655  755  86400  0.000003  0.00004  1.157407e-07  1.157407e-08  1.000000e-18   \n",
       "675  775  86400  0.000003  0.00004  1.157407e-07  1.157407e-08  1.000000e-19   \n",
       "676  776  86400  0.000003  0.00004  1.157407e-07  1.157407e-08  1.000000e-19   \n",
       "\n",
       "     kappa         kfe_p   kldoc_p  ...       DIC(2)       DIC(3)  \\\n",
       "649      0  1.024500e-07  0.000102  ...  2099.874216  2399.435012   \n",
       "652      0  1.024500e-07  0.001025  ...  2100.061384  2398.431438   \n",
       "655      0  1.024500e-07  0.010245  ...  2102.074523  2389.286199   \n",
       "675      0  1.024500e-07  0.000102  ...  2099.846777  2399.554472   \n",
       "676      0  1.024500e-07  0.000102  ...  2099.859451  2399.457416   \n",
       "\n",
       "          ALK(1)       ALK(2)       ALK(3)   OCPCO2(1)   OCPCO2(2)  \\\n",
       "649  2398.052702  2387.738822  2399.317871  287.369859  265.808950   \n",
       "652  2398.202694  2387.861589  2399.469014  287.270339  265.935120   \n",
       "655  2399.556283  2389.394347  2400.842832  286.365415  267.052634   \n",
       "675  2398.023653  2387.725904  2399.299646  287.388905  265.784674   \n",
       "676  2398.043471  2387.736752  2399.314212  287.383971  265.790331   \n",
       "\n",
       "      OCPCO2(3)  ATPCO2  Limit  \n",
       "649  996.995546       0    324  \n",
       "652  985.597480       0    324  \n",
       "655  887.036043       0    324  \n",
       "675  998.362372       0    324  \n",
       "676  997.254197       0    324  \n",
       "\n",
       "[5 rows x 42 columns]"
      ]
     },
     "metadata": {},
     "output_type": "display_data"
    }
   ],
   "source": [
    "data_sel.head()"
   ]
  },
  {
   "cell_type": "code",
   "execution_count": null,
   "metadata": {},
   "outputs": [
    {
     "data": {
      "image/png": "[encoded data removed]",
      "text/plain": [
       "<Figure size 1000x1000 with 5 Axes>"
      ]
     },
     "metadata": {},
     "output_type": "display_data"
    }
   ],
   "source": [
    "### show the distribution of m_l, m_q, mu0, kfe_p, kldoc_p\n",
    "### Show in historgrams in figure with 5 subplots\n",
    "### use log scale for the x-axis\n",
    "\n",
    "fig, axs = plt.subplots(5, sharex=False, sharey=False, figsize=(10, 10))\n",
    "\n",
    "# Plot for 'm_l'\n",
    "axs[0].hist(data_sel['m_l'], bins=50)\n",
    "axs[0].set_title('m_l')\n",
    "axs[0].set_xscale('log')  # Set log scale on the x-axis\n",
    "\n",
    "# Plot for 'm_q'\n",
    "axs[1].hist(data_sel['m_q'], bins=50)\n",
    "axs[1].set_title('m_q')\n",
    "axs[1].set_xscale('log')  # Set log scale on the x-axis\n",
    "\n",
    "# Plot for 'mu0'\n",
    "axs[2].hist(data_sel['mu0'], bins=50)\n",
    "axs[2].set_title('mu0')\n",
    "axs[2].set_xscale('log')  # Set log scale on the x-axis\n",
    "\n",
    "# Plot for 'kfe_p'\n",
    "axs[3].hist(data_sel['kfe_p'], bins=50)\n",
    "axs[3].set_title('kfe_p')\n",
    "axs[3].set_xscale('log')  # Set log scale on the x-axis\n",
    "\n",
    "# Plot for 'kldoc_p'\n",
    "axs[4].hist(data_sel['kldoc_p'], bins=50)\n",
    "axs[4].set_title('kldoc_p')\n",
    "axs[4].set_xscale('log')  # Set log scale on the x-axis\n",
    "\n",
    "plt.show()\n"
   ]
  },
  {
   "cell_type": "code",
   "execution_count": null,
   "metadata": {},
   "outputs": [
    {
     "name": "stdout",
     "output_type": "stream",
     "text": [
      "phi 0.0001    0.455023\n",
      "0.0010    0.350467\n",
      "0.0100    0.194509\n",
      "Name: phi, dtype: float64\n",
      "-----------------------------------------------------------------\n",
      "m_l 1.157407e-08    0.183411\n",
      "1.157407e-09    0.167640\n",
      "0.000000e+00    0.099883\n",
      "1.157407e-10    0.099299\n",
      "1.157407e-11    0.099299\n",
      "1.157407e-14    0.099299\n",
      "1.157407e-12    0.098715\n",
      "1.157407e-13    0.098715\n",
      "1.157407e-07    0.053738\n",
      "Name: m_l, dtype: float64\n",
      "-----------------------------------------------------------------\n",
      "m_q 1.000000e-18    0.306075\n",
      "1.000000e-19    0.275117\n",
      "1.000000e-20    0.176986\n",
      "0.000000e+00    0.166472\n",
      "1.000000e-17    0.075350\n",
      "Name: m_q, dtype: float64\n",
      "-----------------------------------------------------------------\n",
      "mu0 1.157407e-06    0.327103\n",
      "1.157407e-05    0.289136\n",
      "1.157407e-07    0.233061\n",
      "1.157407e-04    0.150701\n",
      "Name: mu0, dtype: float64\n",
      "-----------------------------------------------------------------\n",
      "kfe_p 1.024500e-07    0.361565\n",
      "1.024500e-06    0.334112\n",
      "1.024500e-05    0.304322\n",
      "Name: kfe_p, dtype: float64\n",
      "-----------------------------------------------------------------\n",
      "kldoc_p 0.010245    0.452103\n",
      "0.001025    0.328271\n",
      "0.000102    0.219626\n",
      "Name: kldoc_p, dtype: float64\n"
     ]
    }
   ],
   "source": [
    "### Show the unique values for each parameter\n",
    "\n",
    "### And give the proportion of the total number of rows for each unique value\n",
    "print('phi', data_sel['phi'].value_counts(normalize=True))\n",
    "print('-----------------------------------------------------------------')\n",
    "print('m_l', data_sel['m_l'].value_counts(normalize=True))\n",
    "print('-----------------------------------------------------------------')\n",
    "print('m_q', data_sel['m_q'].value_counts(normalize=True))\n",
    "print('-----------------------------------------------------------------')\n",
    "print('mu0', data_sel['mu0'].value_counts(normalize=True))\n",
    "print('-----------------------------------------------------------------')\n",
    "print('kfe_p', data_sel['kfe_p'].value_counts(normalize=True))\n",
    "print('-----------------------------------------------------------------')\n",
    "print('kldoc_p', data_sel['kldoc_p'].value_counts(normalize=True))\n",
    "\n",
    "\n"
   ]
  },
  {
   "cell_type": "code",
   "execution_count": null,
   "metadata": {},
   "outputs": [],
   "source": []
  }
 ],
 "metadata": {
  "kernelspec": {
   "display_name": "env_MT",
   "language": "python",
   "name": "python3"
  },
  "language_info": {
   "codemirror_mode": {
    "name": "ipython",
    "version": 3
   },
   "file_extension": ".py",
   "mimetype": "text/x-python",
   "name": "python",
   "nbconvert_exporter": "python",
   "pygments_lexer": "ipython3",
   "version": "3.9.18"
  }
 },
 "nbformat": 4,
 "nbformat_minor": 2
}
