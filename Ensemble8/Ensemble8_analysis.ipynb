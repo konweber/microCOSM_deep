{
 "cells": [
  {
   "cell_type": "code",
   "execution_count": null,
   "metadata": {},
   "outputs": [],
   "source": [
    "### Ensemble 8\n",
    "### Timespan: 10000 years\n",
    "### Timestep: 1 year\n",
    "### 360 runs\n",
    "### No prokaryotes, try to find reference scenarios that give the right distribution of ligands and iron\n",
    "### Parameters that are varied: ligand lifetime, ligphi, deep box lifetime factor\n",
    "### beta = 12"
   ]
  },
  {
   "cell_type": "code",
   "execution_count": 1,
   "metadata": {},
   "outputs": [
    {
     "data": {
      "text/plain": [
       "'c:\\\\Users\\\\konst\\\\Documents\\\\_Master_Thesis\\\\Code\\\\microCOSM_deep\\\\Ensemble8'"
      ]
     },
     "execution_count": 1,
     "metadata": {},
     "output_type": "execute_result"
    }
   ],
   "source": [
    "import numpy as np\n",
    "import matplotlib.pyplot as plt\n",
    "import pandas as pd\n",
    "import os\n",
    "import matplotlib as mpl\n",
    "from matplotlib.colors import ListedColormap\n",
    "plt.rcParams['text.usetex'] = True\n",
    "\n",
    "# Enable the use of LaTeX for rendering text labels\n",
    "mpl.rcParams['text.usetex'] = True\n",
    "\n",
    "# Set the font family to sans-serif (Helvetica, Arial, etc.)\n",
    "mpl.rcParams['font.family'] = 'sans-serif'\n",
    "\n",
    "# Set the font style for the labels (optional)\n",
    "mpl.rcParams['font.style'] = 'normal'\n",
    "\n",
    "# Add a LaTeX preamble to change font family for numbers to sans-serif\n",
    "mpl.rcParams['text.latex.preamble'] = r'\\usepackage{sfmath}'\n",
    "\n",
    "\n",
    "os.getcwd()"
   ]
  },
  {
   "cell_type": "code",
   "execution_count": 2,
   "metadata": {},
   "outputs": [],
   "source": [
    "data = pd.read_csv('Ensemble8_noprokaryotes.csv', sep=' ')"
   ]
  },
  {
   "cell_type": "code",
   "execution_count": 3,
   "metadata": {},
   "outputs": [
    {
     "data": {
      "text/html": [
       "<div>\n",
       "<style scoped>\n",
       "    .dataframe tbody tr th:only-of-type {\n",
       "        vertical-align: middle;\n",
       "    }\n",
       "\n",
       "    .dataframe tbody tr th {\n",
       "        vertical-align: top;\n",
       "    }\n",
       "\n",
       "    .dataframe thead th {\n",
       "        text-align: right;\n",
       "    }\n",
       "</style>\n",
       "<table border=\"1\" class=\"dataframe\">\n",
       "  <thead>\n",
       "    <tr style=\"text-align: right;\">\n",
       "      <th></th>\n",
       "      <th>id</th>\n",
       "      <th>dt(s)</th>\n",
       "      <th>t(yr)</th>\n",
       "      <th>rFeC_pb</th>\n",
       "      <th>mu0</th>\n",
       "      <th>m_l</th>\n",
       "      <th>m_q</th>\n",
       "      <th>kappa</th>\n",
       "      <th>kfe_p</th>\n",
       "      <th>kldoc_p</th>\n",
       "      <th>...</th>\n",
       "      <th>DIC(2)</th>\n",
       "      <th>DIC(3)</th>\n",
       "      <th>ALK(1)</th>\n",
       "      <th>ALK(2)</th>\n",
       "      <th>ALK(3)</th>\n",
       "      <th>OCPCO2(1)</th>\n",
       "      <th>OCPCO2(2)</th>\n",
       "      <th>OCPCO2(3)</th>\n",
       "      <th>ATPCO2</th>\n",
       "      <th>Limit</th>\n",
       "    </tr>\n",
       "  </thead>\n",
       "  <tbody>\n",
       "    <tr>\n",
       "      <th>0</th>\n",
       "      <td>35000.0</td>\n",
       "      <td>86400.0</td>\n",
       "      <td>10000.0</td>\n",
       "      <td>0.00004</td>\n",
       "      <td>0.0</td>\n",
       "      <td>1.157407e-08</td>\n",
       "      <td>0.0</td>\n",
       "      <td>0.0</td>\n",
       "      <td>0.000001</td>\n",
       "      <td>0.001025</td>\n",
       "      <td>...</td>\n",
       "      <td>2114.004849</td>\n",
       "      <td>2210.976979</td>\n",
       "      <td>2399.529524</td>\n",
       "      <td>2395.303780</td>\n",
       "      <td>2399.540988</td>\n",
       "      <td>273.454590</td>\n",
       "      <td>280.715325</td>\n",
       "      <td>198.058412</td>\n",
       "      <td>0.0</td>\n",
       "      <td>333.0</td>\n",
       "    </tr>\n",
       "    <tr>\n",
       "      <th>1</th>\n",
       "      <td>35001.0</td>\n",
       "      <td>86400.0</td>\n",
       "      <td>10000.0</td>\n",
       "      <td>0.00004</td>\n",
       "      <td>0.0</td>\n",
       "      <td>1.157407e-08</td>\n",
       "      <td>0.0</td>\n",
       "      <td>0.0</td>\n",
       "      <td>0.000001</td>\n",
       "      <td>0.001025</td>\n",
       "      <td>...</td>\n",
       "      <td>2114.004525</td>\n",
       "      <td>2210.993154</td>\n",
       "      <td>2399.529187</td>\n",
       "      <td>2395.303364</td>\n",
       "      <td>2399.540992</td>\n",
       "      <td>273.455350</td>\n",
       "      <td>280.715155</td>\n",
       "      <td>198.079455</td>\n",
       "      <td>0.0</td>\n",
       "      <td>333.0</td>\n",
       "    </tr>\n",
       "    <tr>\n",
       "      <th>2</th>\n",
       "      <td>35002.0</td>\n",
       "      <td>86400.0</td>\n",
       "      <td>10000.0</td>\n",
       "      <td>0.00004</td>\n",
       "      <td>0.0</td>\n",
       "      <td>1.157407e-08</td>\n",
       "      <td>0.0</td>\n",
       "      <td>0.0</td>\n",
       "      <td>0.000001</td>\n",
       "      <td>0.001025</td>\n",
       "      <td>...</td>\n",
       "      <td>2114.004130</td>\n",
       "      <td>2211.015584</td>\n",
       "      <td>2399.528768</td>\n",
       "      <td>2395.302846</td>\n",
       "      <td>2399.540997</td>\n",
       "      <td>273.456494</td>\n",
       "      <td>280.714954</td>\n",
       "      <td>198.108641</td>\n",
       "      <td>0.0</td>\n",
       "      <td>333.0</td>\n",
       "    </tr>\n",
       "    <tr>\n",
       "      <th>3</th>\n",
       "      <td>35003.0</td>\n",
       "      <td>86400.0</td>\n",
       "      <td>10000.0</td>\n",
       "      <td>0.00004</td>\n",
       "      <td>0.0</td>\n",
       "      <td>1.157407e-08</td>\n",
       "      <td>0.0</td>\n",
       "      <td>0.0</td>\n",
       "      <td>0.000001</td>\n",
       "      <td>0.001025</td>\n",
       "      <td>...</td>\n",
       "      <td>2114.001050</td>\n",
       "      <td>2211.197725</td>\n",
       "      <td>2399.525478</td>\n",
       "      <td>2395.298782</td>\n",
       "      <td>2399.541035</td>\n",
       "      <td>273.466011</td>\n",
       "      <td>280.713415</td>\n",
       "      <td>198.345860</td>\n",
       "      <td>0.0</td>\n",
       "      <td>333.0</td>\n",
       "    </tr>\n",
       "    <tr>\n",
       "      <th>4</th>\n",
       "      <td>35004.0</td>\n",
       "      <td>86400.0</td>\n",
       "      <td>10000.0</td>\n",
       "      <td>0.00004</td>\n",
       "      <td>0.0</td>\n",
       "      <td>1.157407e-08</td>\n",
       "      <td>0.0</td>\n",
       "      <td>0.0</td>\n",
       "      <td>0.000001</td>\n",
       "      <td>0.001025</td>\n",
       "      <td>...</td>\n",
       "      <td>2113.997375</td>\n",
       "      <td>2211.425085</td>\n",
       "      <td>2399.521523</td>\n",
       "      <td>2395.293897</td>\n",
       "      <td>2399.541081</td>\n",
       "      <td>273.478179</td>\n",
       "      <td>280.711607</td>\n",
       "      <td>198.642521</td>\n",
       "      <td>0.0</td>\n",
       "      <td>333.0</td>\n",
       "    </tr>\n",
       "  </tbody>\n",
       "</table>\n",
       "<p>5 rows × 45 columns</p>\n",
       "</div>"
      ],
      "text/plain": [
       "        id    dt(s)    t(yr)  rFeC_pb  mu0           m_l  m_q  kappa  \\\n",
       "0  35000.0  86400.0  10000.0  0.00004  0.0  1.157407e-08  0.0    0.0   \n",
       "1  35001.0  86400.0  10000.0  0.00004  0.0  1.157407e-08  0.0    0.0   \n",
       "2  35002.0  86400.0  10000.0  0.00004  0.0  1.157407e-08  0.0    0.0   \n",
       "3  35003.0  86400.0  10000.0  0.00004  0.0  1.157407e-08  0.0    0.0   \n",
       "4  35004.0  86400.0  10000.0  0.00004  0.0  1.157407e-08  0.0    0.0   \n",
       "\n",
       "      kfe_p   kldoc_p  ...       DIC(2)       DIC(3)       ALK(1)  \\\n",
       "0  0.000001  0.001025  ...  2114.004849  2210.976979  2399.529524   \n",
       "1  0.000001  0.001025  ...  2114.004525  2210.993154  2399.529187   \n",
       "2  0.000001  0.001025  ...  2114.004130  2211.015584  2399.528768   \n",
       "3  0.000001  0.001025  ...  2114.001050  2211.197725  2399.525478   \n",
       "4  0.000001  0.001025  ...  2113.997375  2211.425085  2399.521523   \n",
       "\n",
       "        ALK(2)       ALK(3)   OCPCO2(1)   OCPCO2(2)   OCPCO2(3)  ATPCO2  Limit  \n",
       "0  2395.303780  2399.540988  273.454590  280.715325  198.058412     0.0  333.0  \n",
       "1  2395.303364  2399.540992  273.455350  280.715155  198.079455     0.0  333.0  \n",
       "2  2395.302846  2399.540997  273.456494  280.714954  198.108641     0.0  333.0  \n",
       "3  2395.298782  2399.541035  273.466011  280.713415  198.345860     0.0  333.0  \n",
       "4  2395.293897  2399.541081  273.478179  280.711607  198.642521     0.0  333.0  \n",
       "\n",
       "[5 rows x 45 columns]"
      ]
     },
     "execution_count": 3,
     "metadata": {},
     "output_type": "execute_result"
    }
   ],
   "source": [
    "data.head()"
   ]
  },
  {
   "cell_type": "code",
   "execution_count": 4,
   "metadata": {},
   "outputs": [
    {
     "data": {
      "text/plain": [
       "(360, 45)"
      ]
     },
     "execution_count": 4,
     "metadata": {},
     "output_type": "execute_result"
    }
   ],
   "source": [
    "data.shape"
   ]
  },
  {
   "cell_type": "code",
   "execution_count": 5,
   "metadata": {},
   "outputs": [
    {
     "data": {
      "image/png": "[encoded data removed]",
      "text/plain": [
       "<Figure size 640x480 with 1 Axes>"
      ]
     },
     "metadata": {},
     "output_type": "display_data"
    },
    {
     "data": {
      "image/png": "[encoded data removed]",
      "text/plain": [
       "<Figure size 640x480 with 1 Axes>"
      ]
     },
     "metadata": {},
     "output_type": "display_data"
    }
   ],
   "source": [
    "### Look at the distribution of PO4(2), PO4(3)\n",
    "\n",
    "plt.hist(data['PO4(2)'], bins=100)\n",
    "plt.show()\n",
    "\n",
    "plt.hist(data['PO4(3)'], bins=100)\n",
    "plt.show()\n",
    "\n"
   ]
  },
  {
   "cell_type": "code",
   "execution_count": 6,
   "metadata": {},
   "outputs": [
    {
     "data": {
      "text/plain": [
       "(57, 45)"
      ]
     },
     "execution_count": 6,
     "metadata": {},
     "output_type": "execute_result"
    }
   ],
   "source": [
    "### Select all the runs that have Lig(1), Lig(2), Lig(3) bigger than 0.5 and smaller than 6\n",
    "\n",
    "data_sel = data[(data['Lig(1)'] > 0.5) & (data['Lig(2)'] > 0.5) & (data['Lig(3)'] > 0.5)]\n",
    "data_sel = data_sel[(data_sel['Lig(1)'] < 6) & (data_sel['Lig(2)'] < 6) & (data_sel['Lig(3)'] < 6)]\n",
    "data_sel.shape"
   ]
  },
  {
   "cell_type": "code",
   "execution_count": 7,
   "metadata": {},
   "outputs": [
    {
     "data": {
      "text/plain": [
       "Text(0.5, 1.0, 'Fe(1) distribution')"
      ]
     },
     "execution_count": 7,
     "metadata": {},
     "output_type": "execute_result"
    },
    {
     "data": {
      "image/png": "[encoded data removed]",
      "text/plain": [
       "<Figure size 640x480 with 1 Axes>"
      ]
     },
     "metadata": {},
     "output_type": "display_data"
    }
   ],
   "source": [
    "### Look at distribtution of Fe(1)\n",
    "\n",
    "plt.hist(data_sel['Fe(1)'], bins=20)\n",
    "plt.title('Fe(1) distribution')"
   ]
  },
  {
   "cell_type": "code",
   "execution_count": 8,
   "metadata": {},
   "outputs": [
    {
     "data": {
      "text/plain": [
       "<matplotlib.legend.Legend at 0x204b0aa74c0>"
      ]
     },
     "execution_count": 8,
     "metadata": {},
     "output_type": "execute_result"
    },
    {
     "data": {
      "image/png": "[encoded data removed]",
      "text/plain": [
       "<Figure size 640x480 with 1 Axes>"
      ]
     },
     "metadata": {},
     "output_type": "display_data"
    }
   ],
   "source": [
    "### Look at distribution of Fe(2) and Fe(3) in one histogram\n",
    "\n",
    "plt.hist(data_sel['Fe(2)'], bins=20, alpha=0.5, label='Fe(2)')\n",
    "plt.hist(data_sel['Fe(3)'], bins=20, alpha=0.5, label='Fe(3)')\n",
    "plt.title('Fe(2) and Fe(3) distribution')\n",
    "plt.legend()\n",
    "\n",
    "### Deep Fe is shifted to higher values\n",
    "### Much higher Fe values than in the scenario with beta = 9"
   ]
  },
  {
   "cell_type": "code",
   "execution_count": 9,
   "metadata": {},
   "outputs": [
    {
     "data": {
      "text/plain": [
       "(39, 45)"
      ]
     },
     "execution_count": 9,
     "metadata": {},
     "output_type": "execute_result"
    }
   ],
   "source": [
    "### Select all the runs that have Fe(3) bigger than 0.2 and smaller than 2\n",
    "\n",
    "data_sel = data_sel[(data_sel['Fe(3)'] > 0.2) & (data_sel['Fe(3)'] < 2)]\n",
    "data_sel.shape"
   ]
  },
  {
   "cell_type": "code",
   "execution_count": 10,
   "metadata": {},
   "outputs": [
    {
     "name": "stdout",
     "output_type": "stream",
     "text": [
      "Ligphi 5.000000e-06    0.153846\n",
      "1.000000e-06    0.153846\n",
      "1.000000e-07    0.153846\n",
      "5.000000e-07    0.153846\n",
      "1.000000e-05    0.128205\n",
      "1.000000e-08    0.128205\n",
      "5.000000e-08    0.102564\n",
      "5.000000e-05    0.025641\n",
      "Name: ligphi, dtype: float64\n",
      "Ligand lifetime 3.153600e+10    0.307692\n",
      "3.153600e+09    0.230769\n",
      "1.576800e+09    0.179487\n",
      "3.153600e+08    0.128205\n",
      "1.576800e+08    0.102564\n",
      "3.153600e+07    0.051282\n",
      "Name: lt_lifet, dtype: float64\n",
      "Deep box lifetime factor 100.0     0.282051\n",
      "50.0      0.256410\n",
      "1000.0    0.230769\n",
      "10.0      0.153846\n",
      "5.0       0.051282\n",
      "1.0       0.025641\n",
      "Name: lt_deepf, dtype: float64\n"
     ]
    }
   ],
   "source": [
    "print('Ligphi', data_sel['ligphi'].value_counts(normalize=True))\n",
    "print('Ligand lifetime', data_sel['lt_lifet'].value_counts(normalize=True))\n",
    "print('Deep box lifetime factor', data_sel['lt_deepf'].value_counts(normalize=True))\n"
   ]
  },
  {
   "cell_type": "code",
   "execution_count": 11,
   "metadata": {},
   "outputs": [
    {
     "name": "stdout",
     "output_type": "stream",
     "text": [
      "[35041. 35046. 35094. 35095. 35099. 35100. 35149. 35153. 35154. 35159.\n",
      " 35160. 35197. 35201. 35202. 35203. 35207. 35208. 35212. 35245. 35251.\n",
      " 35256. 35257. 35261. 35262. 35266. 35267. 35272. 35302. 35303. 35304.\n",
      " 35305. 35308. 35309. 35310. 35313. 35314. 35315. 35319. 35324.]\n"
     ]
    }
   ],
   "source": [
    "### Provide the id of the selected runs and print them out in a readable format\n",
    "\n",
    "print(data_sel['id'].values)"
   ]
  },
  {
   "cell_type": "code",
   "execution_count": 12,
   "metadata": {},
   "outputs": [
    {
     "name": "stderr",
     "output_type": "stream",
     "text": [
      "c:\\Users\\konst\\anaconda3\\envs\\env_MT\\lib\\site-packages\\scipy\\__init__.py:138: UserWarning: A NumPy version >=1.16.5 and <1.23.0 is required for this version of SciPy (detected version 1.24.3)\n",
      "  warnings.warn(f\"A NumPy version >={np_minversion} and <{np_maxversion} is required for this version of \"\n",
      "c:\\Users\\konst\\anaconda3\\envs\\env_MT\\lib\\site-packages\\sklearn_extra\\cluster\\_k_medoids.py:275: UserWarning: Cluster 1 is empty! self.labels_[self.medoid_indices_[1]] may not be labeled with its corresponding cluster (1).\n",
      "  warnings.warn(\n",
      "c:\\Users\\konst\\anaconda3\\envs\\env_MT\\lib\\site-packages\\sklearn_extra\\cluster\\_k_medoids.py:275: UserWarning: Cluster 3 is empty! self.labels_[self.medoid_indices_[3]] may not be labeled with its corresponding cluster (3).\n",
      "  warnings.warn(\n"
     ]
    }
   ],
   "source": [
    "from sklearn_extra.cluster import KMedoids\n",
    "\n",
    "# Extract input data\n",
    "X = data_sel[['ligphi', 'lt_lifet', 'lt_deepf']].values\n",
    "\n",
    "num_clusters = 5\n",
    "\n",
    "kmedoids = KMedoids(n_clusters=num_clusters, random_state=0).fit(X)\n",
    "\n",
    "medoid_indices = kmedoids.medoid_indices_\n",
    "\n",
    "representative_sets = pd.DataFrame(X[medoid_indices], columns=['ligphi', 'lt_lifet', 'lt_deepf'])\n"
   ]
  },
  {
   "cell_type": "code",
   "execution_count": 13,
   "metadata": {},
   "outputs": [
    {
     "data": {
      "text/plain": [
       "array([18, 29,  8, 25, 24], dtype=int64)"
      ]
     },
     "execution_count": 13,
     "metadata": {},
     "output_type": "execute_result"
    }
   ],
   "source": [
    "medoid_indices"
   ]
  },
  {
   "cell_type": "code",
   "execution_count": 14,
   "metadata": {},
   "outputs": [
    {
     "name": "stdout",
     "output_type": "stream",
     "text": [
      "         ligphi      lt_lifet  lt_deepf\n",
      "0  1.000000e-08  3.153600e+09    1000.0\n",
      "1  1.000000e-08  3.153600e+10     100.0\n",
      "2  5.000000e-06  3.153600e+08     100.0\n",
      "3  1.000000e-06  3.153600e+09      50.0\n",
      "4  1.000000e-06  3.153600e+09      10.0\n"
     ]
    }
   ],
   "source": [
    "print(representative_sets)"
   ]
  },
  {
   "cell_type": "code",
   "execution_count": null,
   "metadata": {},
   "outputs": [],
   "source": []
  },
  {
   "cell_type": "code",
   "execution_count": 15,
   "metadata": {},
   "outputs": [],
   "source": [
    "\n",
    "# Assuming kmedoids.labels_ contains the cluster labels\n",
    "\n",
    "# Create a custom colormap with 5 visually attractive colors\n",
    "custom_cmap = ListedColormap(['#1f78b4', '#33a02c', '#e31a1c', '#ff7f00', '#6a3d9a'])\n",
    "\n",
    "# Create a figure and subplots\n",
    "fig, axs = plt.subplots(1, 3, figsize=(15, 5), dpi=150)\n",
    "\n",
    "# Initialize an empty list to store legend handles and labels\n",
    "legend_handles = []\n",
    "\n",
    "# Plot for 'ligphi' vs 'lt_lifet'\n",
    "scatter1 = axs[0].scatter(data_sel['ligphi'], np.array(data_sel['lt_lifet']/(86400 * 365)), c=kmedoids.labels_, cmap=custom_cmap, vmin=0, vmax=4, alpha=0.6)\n",
    "representatives1 = axs[0].scatter(representative_sets['ligphi'], np.array(representative_sets['lt_lifet']/(86400 * 365)), c='k', marker='x', s=100, alpha=1, linewidths=0.8, zorder=1)\n",
    "legend_handles.append(representatives1)\n",
    "axs[0].set_xscale('log')\n",
    "axs[0].set_yscale('log')\n",
    "axs[0].set_xlabel(r'$\\log_{10}(\\phi_\\mathsf{Lig})$')\n",
    "axs[0].set_ylabel('Ligand lifetime [years]')\n",
    "\n",
    "# Plot for 'ligphi' vs 'lt_deepf'\n",
    "scatter2 = axs[1].scatter(data_sel['ligphi'], data_sel['lt_deepf'], c=kmedoids.labels_, cmap=custom_cmap, vmin=0, vmax=4, alpha=0.6)\n",
    "representatives2 = axs[1].scatter(representative_sets['ligphi'], representative_sets['lt_deepf'], c='k', marker='x', s=100, alpha=1, linewidths=0.8, zorder=1)\n",
    "legend_handles.append(representatives2)\n",
    "axs[1].set_xscale('log')\n",
    "axs[1].set_yscale('log')\n",
    "axs[1].set_xlabel(r'$\\log_{10}(\\phi_\\mathsf{Lig})$')\n",
    "axs[1].set_ylabel('Deep box lifetime factor')\n",
    "\n",
    "# Plot for 'lt_lifet' vs 'lt_deepf'\n",
    "scatter3 = axs[2].scatter(np.array(data_sel['lt_lifet']/(86400 * 365)), data_sel['lt_deepf'], c=kmedoids.labels_, cmap=custom_cmap, vmin=0, vmax=4, alpha=0.6)\n",
    "representatives3 = axs[2].scatter(np.array(representative_sets['lt_lifet']/(86400 * 365)), representative_sets['lt_deepf'], c='k', marker='x', s=100, alpha=1, linewidths=0.8, zorder=1)\n",
    "legend_handles.append(representatives3)\n",
    "axs[2].set_xscale('log')\n",
    "axs[2].set_yscale('log')\n",
    "axs[2].set_xlabel('Ligand lifetime [years]')\n",
    "axs[2].set_ylabel('Deep box lifetime factor')\n",
    "\n",
    "# Add colorbar with 5 colors on the side\n",
    "cbar = plt.colorbar(scatter1, ax=axs[2], ticks=np.arange(5), boundaries=np.arange(-0.5, 5.5, 1), pad=0.05)\n",
    "cbar.set_label('Cluster Label')\n",
    "\n",
    "# Adjust layout\n",
    "plt.tight_layout()\n",
    "\n",
    "# Save or show the plot\n",
    "plt.savefig('representative_sets_ensemble7.pdf', dpi=300, bbox_inches='tight')\n",
    "plt.savefig('representative_sets_ensemble7.png', dpi=300, bbox_inches='tight')\n",
    "plt.show()\n"
   ]
  },
  {
   "cell_type": "code",
   "execution_count": null,
   "metadata": {},
   "outputs": [],
   "source": []
  }
 ],
 "metadata": {
  "kernelspec": {
   "display_name": "env_MT",
   "language": "python",
   "name": "python3"
  },
  "language_info": {
   "codemirror_mode": {
    "name": "ipython",
    "version": 3
   },
   "file_extension": ".py",
   "mimetype": "text/x-python",
   "name": "python",
   "nbconvert_exporter": "python",
   "pygments_lexer": "ipython3",
   "version": "3.9.18"
  }
 },
 "nbformat": 4,
 "nbformat_minor": 2
}
