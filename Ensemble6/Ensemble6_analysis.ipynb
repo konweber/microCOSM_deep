{
 "cells": [
  {
   "cell_type": "code",
   "execution_count": null,
   "metadata": {},
   "outputs": [],
   "source": [
    "### Ensemble 6\n",
    "### timespan: 10000 years\n",
    "### timestep: 0.5 year\n",
    "### 432 runs\n",
    "### Parameters that are varied: µ0, m_l, m_q, kappa, kldoc_p, phi, rCLig\n",
    "### low ligphi, ligphi = 5e-8\n",
    "### That was the first identified conditions where I could reproduce the observations\n"
   ]
  },
  {
   "cell_type": "code",
   "execution_count": 4,
   "metadata": {},
   "outputs": [
    {
     "data": {
      "text/plain": [
       "'c:\\\\Users\\\\konst\\\\Documents\\\\_Master_Thesis\\\\Code\\\\microCOSM_deep\\\\Ensemble6'"
      ]
     },
     "execution_count": 4,
     "metadata": {},
     "output_type": "execute_result"
    }
   ],
   "source": [
    "import numpy as np\n",
    "import matplotlib.pyplot as plt\n",
    "import pandas as pd\n",
    "import os\n",
    "\n",
    "# Set working directory\n",
    "os.getcwd()"
   ]
  },
  {
   "cell_type": "code",
   "execution_count": 5,
   "metadata": {},
   "outputs": [],
   "source": [
    "data = pd.read_csv('Ensemble6.csv', sep=' ')"
   ]
  },
  {
   "cell_type": "code",
   "execution_count": 8,
   "metadata": {},
   "outputs": [
    {
     "data": {
      "text/html": [
       "<div>\n",
       "<style scoped>\n",
       "    .dataframe tbody tr th:only-of-type {\n",
       "        vertical-align: middle;\n",
       "    }\n",
       "\n",
       "    .dataframe tbody tr th {\n",
       "        vertical-align: top;\n",
       "    }\n",
       "\n",
       "    .dataframe thead th {\n",
       "        text-align: right;\n",
       "    }\n",
       "</style>\n",
       "<table border=\"1\" class=\"dataframe\">\n",
       "  <thead>\n",
       "    <tr style=\"text-align: right;\">\n",
       "      <th></th>\n",
       "      <th>id</th>\n",
       "      <th>dt(s)</th>\n",
       "      <th>t(yr)</th>\n",
       "      <th>rFeC_pb</th>\n",
       "      <th>mu0</th>\n",
       "      <th>m_l</th>\n",
       "      <th>m_q</th>\n",
       "      <th>kappa</th>\n",
       "      <th>kfe_p</th>\n",
       "      <th>kldoc_p</th>\n",
       "      <th>...</th>\n",
       "      <th>DIC(2)</th>\n",
       "      <th>DIC(3)</th>\n",
       "      <th>ALK(1)</th>\n",
       "      <th>ALK(2)</th>\n",
       "      <th>ALK(3)</th>\n",
       "      <th>OCPCO2(1)</th>\n",
       "      <th>OCPCO2(2)</th>\n",
       "      <th>OCPCO2(3)</th>\n",
       "      <th>ATPCO2</th>\n",
       "      <th>Limit</th>\n",
       "    </tr>\n",
       "  </thead>\n",
       "  <tbody>\n",
       "    <tr>\n",
       "      <th>427</th>\n",
       "      <td>30427.0</td>\n",
       "      <td>43200.0</td>\n",
       "      <td>10000.0</td>\n",
       "      <td>0.00004</td>\n",
       "      <td>0.000001</td>\n",
       "      <td>1.157400e-12</td>\n",
       "      <td>0.0</td>\n",
       "      <td>1.0</td>\n",
       "      <td>0.000001</td>\n",
       "      <td>0.010245</td>\n",
       "      <td>...</td>\n",
       "      <td>2116.026238</td>\n",
       "      <td>2192.077878</td>\n",
       "      <td>2399.518455</td>\n",
       "      <td>2396.223843</td>\n",
       "      <td>2399.529127</td>\n",
       "      <td>271.819039</td>\n",
       "      <td>283.075783</td>\n",
       "      <td>175.427583</td>\n",
       "      <td>0.0</td>\n",
       "      <td>333.0</td>\n",
       "    </tr>\n",
       "    <tr>\n",
       "      <th>428</th>\n",
       "      <td>30428.0</td>\n",
       "      <td>43200.0</td>\n",
       "      <td>10000.0</td>\n",
       "      <td>0.00004</td>\n",
       "      <td>0.000001</td>\n",
       "      <td>1.157400e-12</td>\n",
       "      <td>0.0</td>\n",
       "      <td>1.0</td>\n",
       "      <td>0.000001</td>\n",
       "      <td>0.010245</td>\n",
       "      <td>...</td>\n",
       "      <td>2116.400944</td>\n",
       "      <td>2189.608809</td>\n",
       "      <td>2399.572958</td>\n",
       "      <td>2396.445774</td>\n",
       "      <td>2399.583535</td>\n",
       "      <td>271.600778</td>\n",
       "      <td>283.428616</td>\n",
       "      <td>172.679094</td>\n",
       "      <td>0.0</td>\n",
       "      <td>333.0</td>\n",
       "    </tr>\n",
       "    <tr>\n",
       "      <th>429</th>\n",
       "      <td>30429.0</td>\n",
       "      <td>43200.0</td>\n",
       "      <td>10000.0</td>\n",
       "      <td>0.00004</td>\n",
       "      <td>0.000001</td>\n",
       "      <td>1.157400e-12</td>\n",
       "      <td>0.0</td>\n",
       "      <td>1.0</td>\n",
       "      <td>0.000001</td>\n",
       "      <td>0.010245</td>\n",
       "      <td>...</td>\n",
       "      <td>2116.438068</td>\n",
       "      <td>2189.231347</td>\n",
       "      <td>2399.572584</td>\n",
       "      <td>2396.462583</td>\n",
       "      <td>2399.583134</td>\n",
       "      <td>271.568152</td>\n",
       "      <td>283.472465</td>\n",
       "      <td>172.272803</td>\n",
       "      <td>0.0</td>\n",
       "      <td>333.0</td>\n",
       "    </tr>\n",
       "    <tr>\n",
       "      <th>430</th>\n",
       "      <td>30430.0</td>\n",
       "      <td>43200.0</td>\n",
       "      <td>10000.0</td>\n",
       "      <td>0.00004</td>\n",
       "      <td>0.000001</td>\n",
       "      <td>1.157400e-12</td>\n",
       "      <td>0.0</td>\n",
       "      <td>1.0</td>\n",
       "      <td>0.000001</td>\n",
       "      <td>0.010245</td>\n",
       "      <td>...</td>\n",
       "      <td>2116.825120</td>\n",
       "      <td>2189.199445</td>\n",
       "      <td>2399.733890</td>\n",
       "      <td>2396.890118</td>\n",
       "      <td>2399.744860</td>\n",
       "      <td>271.551585</td>\n",
       "      <td>283.522446</td>\n",
       "      <td>172.076782</td>\n",
       "      <td>0.0</td>\n",
       "      <td>333.0</td>\n",
       "    </tr>\n",
       "    <tr>\n",
       "      <th>431</th>\n",
       "      <td>30431.0</td>\n",
       "      <td>43200.0</td>\n",
       "      <td>10000.0</td>\n",
       "      <td>0.00004</td>\n",
       "      <td>0.000001</td>\n",
       "      <td>1.157400e-12</td>\n",
       "      <td>0.0</td>\n",
       "      <td>1.0</td>\n",
       "      <td>0.000001</td>\n",
       "      <td>0.010245</td>\n",
       "      <td>...</td>\n",
       "      <td>2116.831989</td>\n",
       "      <td>2189.123448</td>\n",
       "      <td>2399.733796</td>\n",
       "      <td>2396.893059</td>\n",
       "      <td>2399.744711</td>\n",
       "      <td>271.545110</td>\n",
       "      <td>283.530853</td>\n",
       "      <td>171.995338</td>\n",
       "      <td>0.0</td>\n",
       "      <td>333.0</td>\n",
       "    </tr>\n",
       "  </tbody>\n",
       "</table>\n",
       "<p>5 rows × 42 columns</p>\n",
       "</div>"
      ],
      "text/plain": [
       "          id    dt(s)    t(yr)  rFeC_pb       mu0           m_l  m_q  kappa  \\\n",
       "427  30427.0  43200.0  10000.0  0.00004  0.000001  1.157400e-12  0.0    1.0   \n",
       "428  30428.0  43200.0  10000.0  0.00004  0.000001  1.157400e-12  0.0    1.0   \n",
       "429  30429.0  43200.0  10000.0  0.00004  0.000001  1.157400e-12  0.0    1.0   \n",
       "430  30430.0  43200.0  10000.0  0.00004  0.000001  1.157400e-12  0.0    1.0   \n",
       "431  30431.0  43200.0  10000.0  0.00004  0.000001  1.157400e-12  0.0    1.0   \n",
       "\n",
       "        kfe_p   kldoc_p  ...       DIC(2)       DIC(3)       ALK(1)  \\\n",
       "427  0.000001  0.010245  ...  2116.026238  2192.077878  2399.518455   \n",
       "428  0.000001  0.010245  ...  2116.400944  2189.608809  2399.572958   \n",
       "429  0.000001  0.010245  ...  2116.438068  2189.231347  2399.572584   \n",
       "430  0.000001  0.010245  ...  2116.825120  2189.199445  2399.733890   \n",
       "431  0.000001  0.010245  ...  2116.831989  2189.123448  2399.733796   \n",
       "\n",
       "          ALK(2)       ALK(3)   OCPCO2(1)   OCPCO2(2)   OCPCO2(3)  ATPCO2  \\\n",
       "427  2396.223843  2399.529127  271.819039  283.075783  175.427583     0.0   \n",
       "428  2396.445774  2399.583535  271.600778  283.428616  172.679094     0.0   \n",
       "429  2396.462583  2399.583134  271.568152  283.472465  172.272803     0.0   \n",
       "430  2396.890118  2399.744860  271.551585  283.522446  172.076782     0.0   \n",
       "431  2396.893059  2399.744711  271.545110  283.530853  171.995338     0.0   \n",
       "\n",
       "     Limit  \n",
       "427  333.0  \n",
       "428  333.0  \n",
       "429  333.0  \n",
       "430  333.0  \n",
       "431  333.0  \n",
       "\n",
       "[5 rows x 42 columns]"
      ]
     },
     "execution_count": 8,
     "metadata": {},
     "output_type": "execute_result"
    }
   ],
   "source": [
    "#data.head()\n",
    "data.tail()\n"
   ]
  },
  {
   "cell_type": "code",
   "execution_count": 9,
   "metadata": {},
   "outputs": [
    {
     "data": {
      "text/plain": [
       "(432, 42)"
      ]
     },
     "execution_count": 9,
     "metadata": {},
     "output_type": "execute_result"
    }
   ],
   "source": [
    "data.shape"
   ]
  },
  {
   "cell_type": "code",
   "execution_count": 16,
   "metadata": {},
   "outputs": [
    {
     "data": {
      "text/plain": [
       "<matplotlib.legend.Legend at 0x27c568c4880>"
      ]
     },
     "execution_count": 16,
     "metadata": {},
     "output_type": "execute_result"
    },
    {
     "data": {
      "image/png": "[encoded data removed]",
      "text/plain": [
       "<Figure size 640x480 with 1 Axes>"
      ]
     },
     "metadata": {},
     "output_type": "display_data"
    }
   ],
   "source": [
    "### Get historgam of Lig(1), Lig(2) and Lig(3) for all runs\n",
    "\n",
    "data['Lig(1)'].hist(bins=100, alpha=0.5, label='Lig(1)')\n",
    "plt.xlabel('Lig(1) [nmol/L]')\n",
    "\n",
    "data['Lig(2)'].hist(bins=100, alpha=0.5, label='Lig(2)')\n",
    "plt.xlabel('Lig(2) [nmol/L]')\n",
    "\n",
    "data['Lig(3)'].hist(bins=100, alpha=0.5, label='Lig(3)')\n",
    "plt.xlabel('Lig(3) [nmol/L]')\n",
    "\n",
    "plt.legend(loc='upper right')\n",
    "\n",
    "### Bottom line is that ligand concentrations are very low, indenpent of the parameters chosen"
   ]
  },
  {
   "cell_type": "code",
   "execution_count": 18,
   "metadata": {},
   "outputs": [
    {
     "name": "stdout",
     "output_type": "stream",
     "text": [
      "PB(1) [cells/µL] 0.0    1.0\n",
      "Name: PB(1), dtype: float64\n",
      "PB(2) [cells/µL] 0.0    1.0\n",
      "Name: PB(2), dtype: float64\n",
      "PB(3) [cells/µL] 0.0    1.0\n",
      "Name: PB(3), dtype: float64\n"
     ]
    },
    {
     "data": {
      "image/png": "[encoded data removed]",
      "text/plain": [
       "<Figure size 640x480 with 1 Axes>"
      ]
     },
     "metadata": {},
     "output_type": "display_data"
    }
   ],
   "source": [
    "### select the data where the ligand concentration is above 0.4 nmol/L\n",
    "\n",
    "data_highlig = data[(data['Lig(1)'] > 0.4) & (data['Lig(2)'] > 0.4) & (data['Lig(3)'] > 0.4)]\n",
    "\n",
    "data_highlig.shape\n",
    "\n",
    "### Get historgram of PB(1), PB(2) and PB(3) for all runs where ligand concentration is above 0.4 nmol/L\n",
    "\n",
    "data_highlig['PB(1)'].hist(bins=100, alpha=0.5, label='PB(1)')\n",
    "plt.xlabel('PB(1) [cells/µL]')\n",
    "\n",
    "data_highlig['PB(2)'].hist(bins=100, alpha=0.5, label='PB(2)')\n",
    "plt.xlabel('PB(2) [cells/µL]')\n",
    "\n",
    "data_highlig['PB(3)'].hist(bins=100, alpha=0.5, label='PB(3)')\n",
    "plt.xlabel('PB(3) [cells/µL]')\n",
    "\n",
    "plt.legend(loc='upper right')\n",
    "\n",
    "print('PB(1) [cells/µL]', data_highlig['PB(1)'].value_counts(normalize=True))\n",
    "print('PB(2) [cells/µL]', data_highlig['PB(2)'].value_counts(normalize=True))\n",
    "print('PB(3) [cells/µL]', data_highlig['PB(3)'].value_counts(normalize=True))\n",
    "\n",
    "### Whereever the ligand concentrations are above 0.4 nmol/L, the cell concentrations are zero!!!\n"
   ]
  },
  {
   "cell_type": "code",
   "execution_count": 20,
   "metadata": {},
   "outputs": [
    {
     "data": {
      "text/plain": [
       "<matplotlib.legend.Legend at 0x27c57d22b80>"
      ]
     },
     "execution_count": 20,
     "metadata": {},
     "output_type": "execute_result"
    },
    {
     "data": {
      "image/png": "[encoded data removed]",
      "text/plain": [
       "<Figure size 640x480 with 1 Axes>"
      ]
     },
     "metadata": {},
     "output_type": "display_data"
    }
   ],
   "source": [
    "### Look at the whole data again and get the histogram of PB(1), PB(2) and PB(3) for all runs\n",
    "\n",
    "data['PB(1)'].hist(bins=100, alpha=0.5, label='PB(1)')\n",
    "plt.xlabel('PB(1) [cells/µL]')\n",
    "\n",
    "data['PB(2)'].hist(bins=100, alpha=0.5, label='PB(2)')\n",
    "plt.xlabel('PB(2) [cells/µL]')\n",
    "\n",
    "data['PB(3)'].hist(bins=100, alpha=0.5, label='PB(3)')\n",
    "plt.xlabel('PB [cells/µL]')\n",
    "\n",
    "plt.legend(loc='upper right')"
   ]
  },
  {
   "cell_type": "code",
   "execution_count": null,
   "metadata": {},
   "outputs": [],
   "source": []
  }
 ],
 "metadata": {
  "kernelspec": {
   "display_name": "env_MT",
   "language": "python",
   "name": "python3"
  },
  "language_info": {
   "codemirror_mode": {
    "name": "ipython",
    "version": 3
   },
   "file_extension": ".py",
   "mimetype": "text/x-python",
   "name": "python",
   "nbconvert_exporter": "python",
   "pygments_lexer": "ipython3",
   "version": "3.9.18"
  }
 },
 "nbformat": 4,
 "nbformat_minor": 2
}
