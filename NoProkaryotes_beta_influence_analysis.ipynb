{
 "cells": [
  {
   "cell_type": "code",
   "execution_count": 10,
   "metadata": {},
   "outputs": [],
   "source": [
    "### Looking at the difference that occurs when different conditional stability constants are used\n",
    "### Comparing ensemble 7 and ensemble 8\n",
    "### Data used is the difference between the run with the higher beta (ensemble 8, beta = 1E12)\n",
    "### and the run with the lower beta (ensemble 7, beta = 1E9)\n"
   ]
  },
  {
   "cell_type": "code",
   "execution_count": 1,
   "metadata": {},
   "outputs": [
    {
     "data": {
      "text/plain": [
       "'c:\\\\Users\\\\konst\\\\Documents\\\\_Master_Thesis\\\\Code\\\\microCOSM_deep'"
      ]
     },
     "execution_count": 1,
     "metadata": {},
     "output_type": "execute_result"
    }
   ],
   "source": [
    "### Import libraries\n",
    "import numpy as np\n",
    "import matplotlib.pyplot as plt\n",
    "import pandas as pd\n",
    "import os\n",
    "import matplotlib as mpl\n",
    "from matplotlib.colors import ListedColormap\n",
    "plt.rcParams['text.usetex'] = True\n",
    "\n",
    "# Enable the use of LaTeX for rendering text labels\n",
    "mpl.rcParams['text.usetex'] = True\n",
    "\n",
    "# Set the font family to sans-serif (Helvetica, Arial, etc.)\n",
    "mpl.rcParams['font.family'] = 'sans-serif'\n",
    "\n",
    "# Set the font style for the labels (optional)\n",
    "mpl.rcParams['font.style'] = 'normal'\n",
    "\n",
    "# Add a LaTeX preamble to change font family for numbers to sans-serif\n",
    "mpl.rcParams['text.latex.preamble'] = r'\\usepackage{sfmath}'\n",
    "\n",
    "\n",
    "os.getcwd()"
   ]
  },
  {
   "cell_type": "code",
   "execution_count": 5,
   "metadata": {},
   "outputs": [],
   "source": [
    "data = pd.read_csv('NoProkaryotes_beta_influence.csv')"
   ]
  },
  {
   "cell_type": "code",
   "execution_count": 6,
   "metadata": {},
   "outputs": [
    {
     "data": {
      "text/html": [
       "<div>\n",
       "<style scoped>\n",
       "    .dataframe tbody tr th:only-of-type {\n",
       "        vertical-align: middle;\n",
       "    }\n",
       "\n",
       "    .dataframe tbody tr th {\n",
       "        vertical-align: top;\n",
       "    }\n",
       "\n",
       "    .dataframe thead th {\n",
       "        text-align: right;\n",
       "    }\n",
       "</style>\n",
       "<table border=\"1\" class=\"dataframe\">\n",
       "  <thead>\n",
       "    <tr style=\"text-align: right;\">\n",
       "      <th></th>\n",
       "      <th>id</th>\n",
       "      <th>dt(s)</th>\n",
       "      <th>t(yr)</th>\n",
       "      <th>rFeC_pb</th>\n",
       "      <th>mu0</th>\n",
       "      <th>m_l</th>\n",
       "      <th>m_q</th>\n",
       "      <th>kappa</th>\n",
       "      <th>kfe_p</th>\n",
       "      <th>kldoc_p</th>\n",
       "      <th>...</th>\n",
       "      <th>DIC(2)</th>\n",
       "      <th>DIC(3)</th>\n",
       "      <th>ALK(1)</th>\n",
       "      <th>ALK(2)</th>\n",
       "      <th>ALK(3)</th>\n",
       "      <th>OCPCO2(1)</th>\n",
       "      <th>OCPCO2(2)</th>\n",
       "      <th>OCPCO2(3)</th>\n",
       "      <th>ATPCO2</th>\n",
       "      <th>Limit</th>\n",
       "    </tr>\n",
       "  </thead>\n",
       "  <tbody>\n",
       "    <tr>\n",
       "      <th>0</th>\n",
       "      <td>5000</td>\n",
       "      <td>86400</td>\n",
       "      <td>10000</td>\n",
       "      <td>0.00004</td>\n",
       "      <td>0</td>\n",
       "      <td>1.157407e-08</td>\n",
       "      <td>1.000000e-19</td>\n",
       "      <td>0</td>\n",
       "      <td>0.000001</td>\n",
       "      <td>0.001025</td>\n",
       "      <td>...</td>\n",
       "      <td>-0.048764</td>\n",
       "      <td>0.447824</td>\n",
       "      <td>0.000135</td>\n",
       "      <td>-0.022189</td>\n",
       "      <td>0.000164</td>\n",
       "      <td>0.038752</td>\n",
       "      <td>-0.056637</td>\n",
       "      <td>0.581329</td>\n",
       "      <td>0</td>\n",
       "      <td>0</td>\n",
       "    </tr>\n",
       "    <tr>\n",
       "      <th>1</th>\n",
       "      <td>5000</td>\n",
       "      <td>86400</td>\n",
       "      <td>10000</td>\n",
       "      <td>0.00004</td>\n",
       "      <td>0</td>\n",
       "      <td>1.157407e-08</td>\n",
       "      <td>1.000000e-19</td>\n",
       "      <td>0</td>\n",
       "      <td>0.000001</td>\n",
       "      <td>0.001025</td>\n",
       "      <td>...</td>\n",
       "      <td>-0.048775</td>\n",
       "      <td>0.448212</td>\n",
       "      <td>0.000123</td>\n",
       "      <td>-0.022203</td>\n",
       "      <td>0.000165</td>\n",
       "      <td>0.038763</td>\n",
       "      <td>-0.056642</td>\n",
       "      <td>0.581916</td>\n",
       "      <td>0</td>\n",
       "      <td>0</td>\n",
       "    </tr>\n",
       "    <tr>\n",
       "      <th>2</th>\n",
       "      <td>5000</td>\n",
       "      <td>86400</td>\n",
       "      <td>10000</td>\n",
       "      <td>0.00004</td>\n",
       "      <td>0</td>\n",
       "      <td>1.157407e-08</td>\n",
       "      <td>1.000000e-19</td>\n",
       "      <td>0</td>\n",
       "      <td>0.000001</td>\n",
       "      <td>0.001025</td>\n",
       "      <td>...</td>\n",
       "      <td>-0.048787</td>\n",
       "      <td>0.448855</td>\n",
       "      <td>0.000109</td>\n",
       "      <td>-0.022220</td>\n",
       "      <td>0.000165</td>\n",
       "      <td>0.038791</td>\n",
       "      <td>-0.056648</td>\n",
       "      <td>0.582867</td>\n",
       "      <td>0</td>\n",
       "      <td>0</td>\n",
       "    </tr>\n",
       "    <tr>\n",
       "      <th>3</th>\n",
       "      <td>5000</td>\n",
       "      <td>86400</td>\n",
       "      <td>10000</td>\n",
       "      <td>0.00004</td>\n",
       "      <td>0</td>\n",
       "      <td>1.157407e-08</td>\n",
       "      <td>1.000000e-19</td>\n",
       "      <td>0</td>\n",
       "      <td>0.000001</td>\n",
       "      <td>0.001025</td>\n",
       "      <td>...</td>\n",
       "      <td>-0.048878</td>\n",
       "      <td>0.455510</td>\n",
       "      <td>-0.000004</td>\n",
       "      <td>-0.022353</td>\n",
       "      <td>0.000166</td>\n",
       "      <td>0.039154</td>\n",
       "      <td>-0.056683</td>\n",
       "      <td>0.592465</td>\n",
       "      <td>0</td>\n",
       "      <td>0</td>\n",
       "    </tr>\n",
       "    <tr>\n",
       "      <th>4</th>\n",
       "      <td>5000</td>\n",
       "      <td>86400</td>\n",
       "      <td>10000</td>\n",
       "      <td>0.00004</td>\n",
       "      <td>0</td>\n",
       "      <td>1.157407e-08</td>\n",
       "      <td>1.000000e-19</td>\n",
       "      <td>0</td>\n",
       "      <td>0.000001</td>\n",
       "      <td>0.001025</td>\n",
       "      <td>...</td>\n",
       "      <td>-0.048981</td>\n",
       "      <td>0.465105</td>\n",
       "      <td>-0.000136</td>\n",
       "      <td>-0.022510</td>\n",
       "      <td>0.000167</td>\n",
       "      <td>0.039734</td>\n",
       "      <td>-0.056717</td>\n",
       "      <td>0.606164</td>\n",
       "      <td>0</td>\n",
       "      <td>0</td>\n",
       "    </tr>\n",
       "  </tbody>\n",
       "</table>\n",
       "<p>5 rows × 45 columns</p>\n",
       "</div>"
      ],
      "text/plain": [
       "     id  dt(s)  t(yr)  rFeC_pb  mu0           m_l           m_q  kappa  \\\n",
       "0  5000  86400  10000  0.00004    0  1.157407e-08  1.000000e-19      0   \n",
       "1  5000  86400  10000  0.00004    0  1.157407e-08  1.000000e-19      0   \n",
       "2  5000  86400  10000  0.00004    0  1.157407e-08  1.000000e-19      0   \n",
       "3  5000  86400  10000  0.00004    0  1.157407e-08  1.000000e-19      0   \n",
       "4  5000  86400  10000  0.00004    0  1.157407e-08  1.000000e-19      0   \n",
       "\n",
       "      kfe_p   kldoc_p  ...    DIC(2)    DIC(3)    ALK(1)    ALK(2)    ALK(3)  \\\n",
       "0  0.000001  0.001025  ... -0.048764  0.447824  0.000135 -0.022189  0.000164   \n",
       "1  0.000001  0.001025  ... -0.048775  0.448212  0.000123 -0.022203  0.000165   \n",
       "2  0.000001  0.001025  ... -0.048787  0.448855  0.000109 -0.022220  0.000165   \n",
       "3  0.000001  0.001025  ... -0.048878  0.455510 -0.000004 -0.022353  0.000166   \n",
       "4  0.000001  0.001025  ... -0.048981  0.465105 -0.000136 -0.022510  0.000167   \n",
       "\n",
       "   OCPCO2(1)  OCPCO2(2)  OCPCO2(3)  ATPCO2  Limit  \n",
       "0   0.038752  -0.056637   0.581329       0      0  \n",
       "1   0.038763  -0.056642   0.581916       0      0  \n",
       "2   0.038791  -0.056648   0.582867       0      0  \n",
       "3   0.039154  -0.056683   0.592465       0      0  \n",
       "4   0.039734  -0.056717   0.606164       0      0  \n",
       "\n",
       "[5 rows x 45 columns]"
      ]
     },
     "execution_count": 6,
     "metadata": {},
     "output_type": "execute_result"
    }
   ],
   "source": [
    "data.head()"
   ]
  },
  {
   "cell_type": "code",
   "execution_count": 9,
   "metadata": {},
   "outputs": [
    {
     "data": {
      "image/png": "[encoded data removed]",
      "text/plain": [
       "<Figure size 1500x500 with 3 Axes>"
      ]
     },
     "metadata": {},
     "output_type": "display_data"
    }
   ],
   "source": [
    "### Plot histograms of the ouput variables: Lig(1), Lig(2), Lig(3)\n",
    "### Put into 3 plots in one subplot\n",
    "\n",
    "fig, axs = plt.subplots(1, 3, figsize=(15, 5), sharey=True, tight_layout=True)\n",
    "axs[0].hist(data['Lig(1)'], bins=50, color='black')\n",
    "axs[0].set_xlabel('Lig(1) [nmol/L]')\n",
    "axs[0].set_yscale('log')\n",
    "\n",
    "axs[1].hist(data['Lig(2)'], bins=50, color='black')\n",
    "axs[1].set_xlabel('Lig(2) [nmol/L]')\n",
    "axs[1].set_yscale('log')\n",
    "\n",
    "axs[2].hist(data['Lig(3)'], bins=50, color='black')\n",
    "axs[2].set_xlabel('Lig(3) [nmol/L]')\n",
    "axs[2].set_yscale('log')\n",
    "\n",
    "plt.show()\n",
    "\n",
    "\n",
    "### Higher beta leads mostly to higher ligand concentration in the the southern ocean\n",
    "### and to lower ligand concentration in the other two boxes\n"
   ]
  },
  {
   "cell_type": "code",
   "execution_count": 12,
   "metadata": {},
   "outputs": [
    {
     "data": {
      "image/png": "[encoded data removed]",
      "text/plain": [
       "<Figure size 1500x500 with 3 Axes>"
      ]
     },
     "metadata": {},
     "output_type": "display_data"
    }
   ],
   "source": [
    "### Plot histograms of the ouput variables: Fe(1), Fe(2), Fe(3)\n",
    "### Put into 3 plots in one subplot\n",
    "\n",
    "fig, axs = plt.subplots(1, 3, figsize=(15, 5), sharey=True, tight_layout=True)\n",
    "axs[0].hist(data['Fe(1)'], bins=50, color='black')\n",
    "axs[0].set_xlabel('Fe(1) [nmol/L]')\n",
    "axs[0].set_yscale('log')\n",
    "\n",
    "axs[1].hist(data['Fe(2)'], bins=50, color='black')\n",
    "axs[1].set_xlabel('Fe(2) [nmol/L]')\n",
    "axs[1].set_yscale('log')\n",
    "\n",
    "axs[2].hist(data['Fe(3)'], bins=50, color='black')\n",
    "axs[2].set_xlabel('Fe(3) [nmol/L]')\n",
    "axs[2].set_yscale('log')\n",
    "\n",
    "### There is certainly more Fe in all the boxes (with a small exception for the low latitude box in a few cases)"
   ]
  },
  {
   "cell_type": "code",
   "execution_count": 13,
   "metadata": {},
   "outputs": [
    {
     "data": {
      "image/png": "[encoded data removed]",
      "text/plain": [
       "<Figure size 1500x500 with 3 Axes>"
      ]
     },
     "metadata": {},
     "output_type": "display_data"
    }
   ],
   "source": [
    "### Plot histograms of the ouput variables: PO4(1), PO4(2), PO4(3)\n",
    "### Put into 3 plots in one subplot\n",
    "\n",
    "fig, axs = plt.subplots(1, 3, figsize=(15, 5), sharey=True, tight_layout=True)\n",
    "axs[0].hist(data['PO4(1)'], bins=50, color='black')\n",
    "axs[0].set_xlabel('PO4(1) [nmol/L]')\n",
    "axs[0].set_yscale('log')\n",
    "\n",
    "axs[1].hist(data['PO4(2)'], bins=50, color='black')\n",
    "axs[1].set_xlabel('PO4(2) [nmol/L]')\n",
    "axs[1].set_yscale('log')\n",
    "\n",
    "axs[2].hist(data['PO4(3)'], bins=50, color='black')\n",
    "axs[2].set_xlabel('PO4(3) [nmol/L]')\n",
    "axs[2].set_yscale('log')\n",
    "\n",
    "### Drawdown of the phosphate concentration in the high latitude box\n",
    "### also decrease in the low latitude box\n",
    "### increase in the deep ocean box\n",
    "### Productivity patterns change with a different beta and shape of the ligand distribution\n",
    "### Makes clear that everything is a bit more complicated than maybe initially thought\n",
    "### Makes it hard to find the right conditions for the model to match the observations\n"
   ]
  },
  {
   "cell_type": "code",
   "execution_count": null,
   "metadata": {},
   "outputs": [],
   "source": []
  }
 ],
 "metadata": {
  "kernelspec": {
   "display_name": "env_MT",
   "language": "python",
   "name": "python3"
  },
  "language_info": {
   "codemirror_mode": {
    "name": "ipython",
    "version": 3
   },
   "file_extension": ".py",
   "mimetype": "text/x-python",
   "name": "python",
   "nbconvert_exporter": "python",
   "pygments_lexer": "ipython3",
   "version": "3.9.18"
  }
 },
 "nbformat": 4,
 "nbformat_minor": 2
}
